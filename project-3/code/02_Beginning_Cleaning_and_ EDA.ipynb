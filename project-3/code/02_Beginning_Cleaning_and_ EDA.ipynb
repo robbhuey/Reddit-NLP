{
 "cells": [
  {
   "cell_type": "markdown",
   "id": "fc3c55f7-b628-4584-91c2-c24bc9e072c6",
   "metadata": {},
   "source": [
    "## Cleaning and EDA"
   ]
  },
  {
   "cell_type": "markdown",
   "id": "08d6894e-180b-4bb2-b198-e4f7362f1039",
   "metadata": {
    "tags": []
   },
   "source": [
    "***IMPORTS***"
   ]
  },
  {
   "cell_type": "code",
   "execution_count": 5,
   "id": "e3c103d8-44f3-4e75-a89d-537c708aa471",
   "metadata": {
    "tags": []
   },
   "outputs": [],
   "source": [
    "import matplotlib.pyplot as plt\n",
    "import pandas as pd\n",
    "import seaborn as sns\n",
    "import re\n",
    "import string\n",
    "\n",
    "from sklearn.feature_extraction.text import CountVectorizer\n",
    "from sklearn.feature_extraction.text import CountVectorizer\n",
    "import nltk\n",
    "from nltk.stem import WordNetLemmatizer\n",
    "\n",
    "\n",
    "pd.options.display.max_colwidth = 400"
   ]
  },
  {
   "cell_type": "markdown",
   "id": "77116ff4-89ab-4a8d-aeae-214841f9c4b4",
   "metadata": {},
   "source": [
    "## Load Data"
   ]
  },
  {
   "cell_type": "code",
   "execution_count": 6,
   "id": "596b75e8-0487-407b-8596-b337b28588e3",
   "metadata": {
    "tags": []
   },
   "outputs": [],
   "source": [
    "date = pd.read_csv('./data_collection_days/date_combined.csv')\n",
    "food = pd.read_csv('./data_collection_days/food_combined.csv')"
   ]
  },
  {
   "cell_type": "markdown",
   "id": "b8f179e6-ad7b-4298-ab66-542df660f632",
   "metadata": {
    "tags": []
   },
   "source": [
    "***Lowercase the Columns***"
   ]
  },
  {
   "cell_type": "code",
   "execution_count": 7,
   "id": "9d2177a0-bc49-4c9c-af5c-a0a678be377b",
   "metadata": {
    "tags": []
   },
   "outputs": [],
   "source": [
    "date.columns = date.columns.str.lower()\n",
    "food.columns = food.columns.str.lower()"
   ]
  },
  {
   "cell_type": "markdown",
   "id": "c3f38f0e-dc4f-402b-8196-028e4ef4f287",
   "metadata": {},
   "source": [
    "***Check for null values***"
   ]
  },
  {
   "cell_type": "code",
   "execution_count": 8,
   "id": "7683890d-3c04-46cc-8cfd-a9a90a2642a5",
   "metadata": {
    "tags": []
   },
   "outputs": [
    {
     "data": {
      "text/plain": [
       "title_and_selftext    0\n",
       "author                0\n",
       "score                 0\n",
       "url                   0\n",
       "created               0\n",
       "upvote_ratio          0\n",
       "dtype: int64"
      ]
     },
     "execution_count": 8,
     "metadata": {},
     "output_type": "execute_result"
    }
   ],
   "source": [
    "date.isnull().sum()"
   ]
  },
  {
   "cell_type": "code",
   "execution_count": 9,
   "id": "a20f3a70-7b47-4d7b-bd4e-0c8108e73028",
   "metadata": {
    "tags": []
   },
   "outputs": [
    {
     "data": {
      "text/plain": [
       "title_and_selftext    0\n",
       "author                0\n",
       "score                 0\n",
       "url                   0\n",
       "created               0\n",
       "upvote_ratio          0\n",
       "dtype: int64"
      ]
     },
     "execution_count": 9,
     "metadata": {},
     "output_type": "execute_result"
    }
   ],
   "source": [
    "food.isnull().sum()"
   ]
  },
  {
   "cell_type": "markdown",
   "id": "c5e76d59-b914-4a16-b985-bd0804fea4bd",
   "metadata": {},
   "source": [
    "***Drop URL Column***"
   ]
  },
  {
   "cell_type": "code",
   "execution_count": 10,
   "id": "cfbf6248-ba49-4407-8b66-eb40f4e67eea",
   "metadata": {
    "tags": []
   },
   "outputs": [],
   "source": [
    "date.drop('url', axis = 1, inplace = True)"
   ]
  },
  {
   "cell_type": "code",
   "execution_count": 11,
   "id": "e2f44e32-34f1-42b8-bcba-c9e793208ffc",
   "metadata": {
    "tags": []
   },
   "outputs": [],
   "source": [
    "food.drop('url', axis = 1, inplace = True)"
   ]
  },
  {
   "cell_type": "markdown",
   "id": "45c81c4d-a55c-463b-a912-5bd85f62fcd2",
   "metadata": {},
   "source": [
    "## Duplicates"
   ]
  },
  {
   "cell_type": "markdown",
   "id": "5c6d9cbc-31ea-4ab4-86e3-d2c68e16b166",
   "metadata": {},
   "source": [
    "***Cleaning Duplicates in the Date Dataset***"
   ]
  },
  {
   "cell_type": "code",
   "execution_count": 12,
   "id": "f84b2948-7bf3-4ef4-be11-36970783bb58",
   "metadata": {
    "tags": []
   },
   "outputs": [
    {
     "data": {
      "text/plain": [
       "(3967, 5)"
      ]
     },
     "execution_count": 12,
     "metadata": {},
     "output_type": "execute_result"
    }
   ],
   "source": [
    "date.shape"
   ]
  },
  {
   "cell_type": "code",
   "execution_count": 13,
   "id": "d4606739-0760-418e-b409-2a609fc6942a",
   "metadata": {
    "tags": []
   },
   "outputs": [],
   "source": [
    "date = date.drop_duplicates()"
   ]
  },
  {
   "cell_type": "code",
   "execution_count": 14,
   "id": "b3090e5b-7e2c-4936-8cb9-6f7abfb88922",
   "metadata": {
    "tags": []
   },
   "outputs": [],
   "source": [
    "#First drop dupes didn't get rid of all the dupes in self_text.\n",
    "date = date.drop_duplicates(subset = ['title_and_selftext'])"
   ]
  },
  {
   "cell_type": "code",
   "execution_count": 15,
   "id": "b3f397d8-e717-45fa-8f6b-cfacb5328c24",
   "metadata": {
    "tags": []
   },
   "outputs": [
    {
     "data": {
      "text/plain": [
       "(1765, 5)"
      ]
     },
     "execution_count": 15,
     "metadata": {},
     "output_type": "execute_result"
    }
   ],
   "source": [
    "date.shape"
   ]
  },
  {
   "cell_type": "markdown",
   "id": "2364db34-45c2-4c23-8033-be1dfb0232af",
   "metadata": {},
   "source": [
    "***Cleaning Duplicates in the Food Dataset***"
   ]
  },
  {
   "cell_type": "code",
   "execution_count": 16,
   "id": "c660eea7-b28b-4642-a2a5-cae86b1aa3d4",
   "metadata": {
    "tags": []
   },
   "outputs": [
    {
     "data": {
      "text/plain": [
       "(4838, 5)"
      ]
     },
     "execution_count": 16,
     "metadata": {},
     "output_type": "execute_result"
    }
   ],
   "source": [
    "food.shape"
   ]
  },
  {
   "cell_type": "code",
   "execution_count": 17,
   "id": "42eba13d-73d4-4d74-8028-3ff87328913d",
   "metadata": {
    "tags": []
   },
   "outputs": [],
   "source": [
    "food = food.drop_duplicates()"
   ]
  },
  {
   "cell_type": "code",
   "execution_count": 18,
   "id": "bffcf8bf-6186-407e-bb6c-1e2fde2ee33a",
   "metadata": {
    "tags": []
   },
   "outputs": [],
   "source": [
    "food = food.drop_duplicates(subset = ['title_and_selftext'])"
   ]
  },
  {
   "cell_type": "code",
   "execution_count": 19,
   "id": "61fefcf3-914e-4232-8124-43050dab3fb8",
   "metadata": {
    "tags": []
   },
   "outputs": [
    {
     "data": {
      "text/plain": [
       "(1056, 5)"
      ]
     },
     "execution_count": 19,
     "metadata": {},
     "output_type": "execute_result"
    }
   ],
   "source": [
    "food.shape"
   ]
  },
  {
   "cell_type": "markdown",
   "id": "b4a1f104-297e-42a0-9b5e-a19a92e02fa5",
   "metadata": {},
   "source": [
    "***Duplicate posts removed but did not remove the moderator posts. Removing mod posts***"
   ]
  },
  {
   "cell_type": "code",
   "execution_count": 20,
   "id": "8c1335fe-1cf1-4cb2-b11e-1b045245e365",
   "metadata": {
    "tags": []
   },
   "outputs": [],
   "source": [
    "author_kill = 'SyCams'\n",
    "\n",
    "date.drop(date[date['author'] == author_kill].index, inplace = True)"
   ]
  },
  {
   "cell_type": "markdown",
   "id": "01df698f-0b92-44c6-949f-c3c934704fb5",
   "metadata": {},
   "source": [
    "***Created a Column to Show Length of Posts***"
   ]
  },
  {
   "cell_type": "code",
   "execution_count": 21,
   "id": "63c3b478-3298-4d5f-bf71-54f22afcde9d",
   "metadata": {
    "tags": []
   },
   "outputs": [],
   "source": [
    "date['status_length'] = date['title_and_selftext'].apply(lambda x: len(x))"
   ]
  },
  {
   "cell_type": "code",
   "execution_count": 22,
   "id": "12bb10f7-8327-44d5-9e6d-8adcf9f79593",
   "metadata": {
    "tags": []
   },
   "outputs": [],
   "source": [
    "food['status_length'] = food['title_and_selftext'].apply(lambda x: len(x))"
   ]
  },
  {
   "cell_type": "code",
   "execution_count": 23,
   "id": "c9f99ec9-f847-4651-b9f0-385fb360ed93",
   "metadata": {
    "tags": []
   },
   "outputs": [],
   "source": [
    "# Made a column with status length of the posts."
   ]
  },
  {
   "cell_type": "markdown",
   "id": "4e6d84eb-9948-460b-8a0b-0803ea1c3685",
   "metadata": {},
   "source": [
    "***Created a Column to Show the Word Count of Posts***"
   ]
  },
  {
   "cell_type": "code",
   "execution_count": 24,
   "id": "b417027d-58d6-433e-8aaf-51ade756022a",
   "metadata": {
    "tags": []
   },
   "outputs": [],
   "source": [
    "date['status_word_count'] = date['title_and_selftext'].apply(lambda x: len(x.split()))"
   ]
  },
  {
   "cell_type": "code",
   "execution_count": 25,
   "id": "0107236d-28c8-4604-ae0c-a431b4bac697",
   "metadata": {
    "tags": []
   },
   "outputs": [],
   "source": [
    "food['status_word_count'] = food['title_and_selftext'].apply(lambda x: len(x.split()))"
   ]
  },
  {
   "cell_type": "code",
   "execution_count": 26,
   "id": "7a34b8f1-0a6e-4d04-8788-500cbee21818",
   "metadata": {},
   "outputs": [],
   "source": [
    "#Made a column with word count in posts."
   ]
  },
  {
   "cell_type": "markdown",
   "id": "5aeb90b6-adf5-4699-81fe-5d37d7a424e0",
   "metadata": {},
   "source": [
    "***Created a Column to Show the Character Count of Posts***"
   ]
  },
  {
   "cell_type": "code",
   "execution_count": 27,
   "id": "bd9ec355-e6c0-4526-a95f-5d5a98f298f3",
   "metadata": {
    "tags": []
   },
   "outputs": [],
   "source": [
    "date['status_char_count'] = date['title_and_selftext'].apply(lambda x: len(x))"
   ]
  },
  {
   "cell_type": "code",
   "execution_count": 28,
   "id": "0629e5e1-b11b-4c29-92bf-ed79c949d603",
   "metadata": {
    "tags": []
   },
   "outputs": [],
   "source": [
    "food['status_char_count'] = food['title_and_selftext'].apply(lambda x: len(x))"
   ]
  },
  {
   "cell_type": "markdown",
   "id": "b1755ffe-2f2c-4b2b-ab2d-db1b84f91008",
   "metadata": {},
   "source": [
    "***Title_and_selftext top 5 and worst scores***"
   ]
  },
  {
   "cell_type": "markdown",
   "id": "e441bd7f-51f0-4a71-9b5b-fd50451e61a1",
   "metadata": {},
   "source": [
    "***Date***"
   ]
  },
  {
   "cell_type": "code",
   "execution_count": 29,
   "id": "dc334fca-2d07-4c30-9044-744cdce8c945",
   "metadata": {
    "scrolled": true,
    "tags": []
   },
   "outputs": [
    {
     "name": "stdout",
     "output_type": "stream",
     "text": [
      "Five worst date scores:\n",
      "                                                                                                                                                                                                                                                                                                                                                                                                   title_and_selftext  \\\n",
      "3560  Disclose racial preferences up front Ever  realize someone didn’t  want a  serious relationship with you because you’re not white? They see you as fine to date, but they never saw you as someone they would enter into a serious relationship with and eventually marry. To those that say stick to your own race, then you could avoid this feeling but not everyone uses racial preference  as the only ...   \n",
      "881   My pal is going to mess everything up 🤦‍♂️ So I met this girl on holiday(Zambia), on my second day. Man 😍 as close to love at first sight as I’m sure I’ll ever come. My pal and her friend hit it off too. It’s been 3 months since I’ve been back in England and in that time the four of us have been advancing in our respective relationships and the girls got visa’s to come and spend a month with u...   \n",
      "1729  Guy and i are way too attached Tldr: Here's my dilemma. Guy and I are very close friends. We treat each other as confidantes and he said he trust me more than 100%. We live in different cities but the thing is I often go to his city because of a problem that I have..which lately is getting better because over time I'm healing although not totally healed.\\n\\nEverytime I go to his city and is ab...   \n",
      "1730                                                                                                                                                                                                                                                                                                          Is doing 4 rounds in 3 hours worth a flex (25M)? Basically the title. Although I was tired af after it!   \n",
      "255                                                                                                                                                                                                                                                                                                  Doing loyalty tests, experienced tester Find out if your wife or gf is really seeing other guys behind your back   \n",
      "\n",
      "                   author  score       created  upvote_ratio  status_length  \\\n",
      "3560     glittermoonstone      0  1.690820e+09          0.50           1264   \n",
      "881   Worth-Variation7954      0  1.690652e+09          0.50           1012   \n",
      "1729    Dazzling_Ant_6881      0  1.690757e+09          0.33           1988   \n",
      "1730   Nervous_Factor8996      0  1.690771e+09          0.25            103   \n",
      "255          hosethemdown      0  1.690496e+09          0.33            112   \n",
      "\n",
      "      status_word_count  status_char_count  \n",
      "3560                228               1264  \n",
      "881                 203               1012  \n",
      "1729                392               1988  \n",
      "1730                 21                103  \n",
      "255                  20                112  \n",
      "\n",
      "Five best date scores:\n",
      "                                                                                                                                                                                                                                                                                                                                                                                                   title_and_selftext  \\\n",
      "1617  First date was a disaster So I (29) went on a first date Friday night with a man (31) that I’ve been talking to for a little over 2 months we’ve never met because he lives 2hrs away and he had lagged on the 3 previous attempts to hang out… it was always bs excuses (I’m sick, my eye is red, I’m scared to meet you because I’m not social) but somehow I was dumb enough to look pass it. He finally ...   \n",
      "2508  First date was a disaster So I (29) went on a first date Friday night with a man (31) that I’ve been talking to for a little over 2 months. We met through mutuals, he added me on IG and it kinda just went from there. There was no actual intent on dating the first month of chatting—there was friendship and it naturally grew into more. We texted everyday and FT. We didn’t meet up as quickly beca...   \n",
      "354                                                                                                                Someone matched with me just to tell me I’m not attractive Sorry for the rant but I’m kind of hurt. I’ve always had low self esteem, and someone matched with me on hinge just to make fun of my appearance.. I’ve never had this happen before. Anyways please be kind to people on dating apps 😢   \n",
      "1607  Just deleted all dating apps I'm not giving up on dating, I'm just sick of the toxic culture that online dating seems to perpetuate between all sexes and genders. It makes me sick to see how we date now, I was getting matches and nothing of substance was ever talked about, on top of that you have fake accounts that constantly hit me (I'm male) to buy nudes, to get on only fans, to add an insta...   \n",
      "44    A Girl called me fat phobic for rejecting her Yesterday, after I got off work I hit the gym like I usually do. I was basically done for the day, all I had left to do was to hit the leg press machine. While I was in the middle of my workout this girl walked over and started up a conversation with me. This girl was about 5”5 and 195 or 200 lbs She eventually asked if she could get my number or i...   \n",
      "\n",
      "                   author  score       created  upvote_ratio  status_length  \\\n",
      "1617            Samdgreat    661  1.690705e+09          0.96           2525   \n",
      "2508            Samdgreat    766  1.690705e+09          0.96           3589   \n",
      "354   Background_Box_4656    771  1.690322e+09          0.97            290   \n",
      "1607        The_Fluffness   1218  1.665118e+09          0.96           1386   \n",
      "44                Jesh__4   1420  1.690442e+09          0.92           1070   \n",
      "\n",
      "      status_word_count  status_char_count  \n",
      "1617                511               2525  \n",
      "2508                712               3589  \n",
      "354                  56                290  \n",
      "1607                250               1386  \n",
      "44                  220               1070  \n"
     ]
    }
   ],
   "source": [
    "date = date.sort_values(by = \"score\")\n",
    "worst_date = date.head()\n",
    "best_date = date.tail()\n",
    "\n",
    "print(\"Five worst date scores:\")\n",
    "print(worst_date)\n",
    "\n",
    "print(\"\\nFive best date scores:\")\n",
    "print(best_date)"
   ]
  },
  {
   "cell_type": "markdown",
   "id": "d848de57-b89d-47c4-b180-dc73a464cadb",
   "metadata": {},
   "source": [
    "***Food***"
   ]
  },
  {
   "cell_type": "code",
   "execution_count": 30,
   "id": "f12ed59b-d819-4130-a501-b4ae2113faca",
   "metadata": {
    "scrolled": true,
    "tags": []
   },
   "outputs": [
    {
     "name": "stdout",
     "output_type": "stream",
     "text": [
      "Five worst date scores:\n",
      "                                                                                                                                                                                                                                                                                                                                                                                                   title_and_selftext  \\\n",
      "3901  How much sodium from a cooking liquid makes it into the food? I've been trying to recently modify some of my recipes to reduce sodium amounts for health reasons.  One of the recipes I have is a dish that involves chicken cooking in primarily chicken broth with assorted spices, then shredded before being served.\\n\\nI am happy to use low sodium chicken broth, though even low sodium broth still h...   \n",
      "148   Boil the milk before making a crème anglaise for an ice cream? Lauroose vs The Perfect Scoop I've been researching ice cream recipes, but I received two contradictory opinions. The first recipe is the vanilla ice cream recipe from \"The Perfect Scoop\" by David Lebovitz. \\n\\nIt states, \"Warm the milk, sugar, 1 cup (250ml) of the cream blablabla...\" But on the other hand, Larousse Gastronomie sug...   \n",
      "645   Grey medium rare steak I have been nailing steaks for the last 10 years and have it down very well at least I thought! For whatever reason the last 5 cooks I cut into the meat and its not the pink color I expect, instead it's grey. Oddly enough after being cut and after a 2 or 3 minutes the color tuns pink. I used to love first cutting into the steak and getting the satisfying feeling from a b...   \n",
      "637   How do I make sure my rice will be dry tomorrow? All my attempts at how to do day-old rice correctly yield \"how to dry your rice *quickly*\" or \"how to make fresh rice like it's day-old!\", which is not my question.\\n\\nI tried doing fried rice, using rice I made a day in advance, but it turned out wet, and I don't know what I did wrong with the rice. I cooked it with chicken stock instead of wat...   \n",
      "632   Dry brine - amount of salt (and sugar) I’ve started dry brining cuts of meat and fish, but I see a lot of conflicting information. Some recipes call for only salt, other for salt, sugar and even spices. Some recipes call for a few teaspoons of salt, others for entire cups of salt! Some say to only brine a cut of salmon up to 1 hour max, others overnight….\\n\\nI don’t really know how to proceed ...   \n",
      "\n",
      "            author  score       created  upvote_ratio  status_length  \\\n",
      "3901     Hansekins      0  1.690855e+09          0.33            692   \n",
      "148      OverpanSE      0  1.690038e+09          0.50           2470   \n",
      "645      [deleted]      0  1.687632e+09          0.43           1125   \n",
      "637    monsieuro3o      0  1.687665e+09          0.43            727   \n",
      "632   CanisLupus27      0  1.687701e+09          0.50            507   \n",
      "\n",
      "      status_word_count  status_char_count  \n",
      "3901                124                692  \n",
      "148                 429               2470  \n",
      "645                 217               1125  \n",
      "637                 141                727  \n",
      "632                  94                507  \n",
      "\n",
      "Five best date scores:\n",
      "                                                                                                                                                                                                                                                                                                                                                                                                  title_and_selftext  \\\n",
      "662  Is there anything wrong with marinading my chicken in lemon juice for 2-3 days? So i'm trying to make a classic persian dish called joojeh kabob. I got a recipe from my iranian friend that mentions marinading the chicken in quite a bit of lemon juice for up to 3 days in the fridge (among other things like mayo, saffron, peppers, etc).\\n\\nHowever, everything I've read online warns against marin...   \n",
      "433                                                                                                                                                                                            Got about 3000+ figs that are all about to drop at about the same time. Desperate for ideas and recipes that could reduce waste as much as possible (jams, jarring, freezing, etc) Any ideas are greatly appreciated!   \n",
      "261  Butcher was fuming when I asked for 70/30 chuck/short rib Went into a new butchers today, said I wanna make my own burgers and asked if they could grind that for me. One of the guys in there (pretty sure he was  Italian), got proper angry and started saying, “I know all these ridiculous chefs tell you to get that, but it’s not possible and I’d never do that”, telling me that if I wanted that h...   \n",
      "820  What's up with mac'n'cheese? I've never had mac'n'cheese.\\nI have never seen it. \\nOnly heard about through popular culture. \\nI think it is the go to food for US parents desperately trying to feed their small kids. The  American equivalent of what breaded fish is for us Scandinavians. Something kids just eat for once. \\n\\nOk, so I have no relation really to this dish, but I am thinking about ...   \n",
      "805  /r/AskCulinary is joining the blackout on June 12th-14th to protest Reddit's proposed API changes, which will end all 3rd party apps https://www.reddit.com/r/Save3rdPartyApps/comments/13yh0jf/dont_let_reddit_kill_3rd_party_apps\\n\\n#What's going on?\\n\\nA recent Reddit policy change threatens to kill many beloved third-party mobile apps, making a great many quality-of-life features not seen in t...   \n",
      "\n",
      "                author  score       created  upvote_ratio  status_length  \\\n",
      "662            Sohailk    309  1.687448e+09          0.86            813   \n",
      "433          cowboys30    349  1.688565e+09          0.96            213   \n",
      "261    Agitated-Ad7736    409  1.689432e+09          0.86            791   \n",
      "820  kissekattutanhatt   1055  1.685914e+09          0.88            792   \n",
      "805       skahunter831   1490  1.686007e+09          0.96           3571   \n",
      "\n",
      "     status_word_count  status_char_count  \n",
      "662                146                813  \n",
      "433                 37                213  \n",
      "261                151                791  \n",
      "820                146                792  \n",
      "805                477               3571  \n"
     ]
    }
   ],
   "source": [
    "food = food.sort_values(by = \"score\")\n",
    "worst_food = food.head()\n",
    "best_food = food.tail()\n",
    "\n",
    "print(\"Five worst date scores:\")\n",
    "print(worst_food)\n",
    "\n",
    "print(\"\\nFive best date scores:\")\n",
    "print(best_food)"
   ]
  },
  {
   "cell_type": "markdown",
   "id": "ebe1dff6-bad1-449b-8525-8b5a76778579",
   "metadata": {
    "tags": []
   },
   "source": [
    "***Inference from the posts***\n",
    "\n",
    "***Date***\n",
    "+ Longer length posts tend to score higher in the date dataset. \n",
    "+ Top tier posts range from 200 - 700 words. \n",
    "+ Poorly rated posts go from 0 - 300 words.\n",
    "+ Content is mainly focused on race or bitterness of being not sought after.\n",
    "\n",
    "***Food***\n",
    "+ Word count and status length are shorter than date dataset for high rated posts.\n",
    "+ Majority tend to be around 200 words and talking about how recipes were a part of there soul.\n",
    "+ The worst rated posts were about even in length and word counts. This is not surprising since food is a direct subject.\n",
    "+ Focus on directions with questions sprinkled in."
   ]
  },
  {
   "cell_type": "code",
   "execution_count": 31,
   "id": "93478690-cbdd-4a1e-b578-7a9cdef068cf",
   "metadata": {
    "tags": []
   },
   "outputs": [],
   "source": [
    "date.to_csv('date_use.csv', index = False)"
   ]
  },
  {
   "cell_type": "code",
   "execution_count": 32,
   "id": "1c449194-c889-4c65-b901-91651dc11c97",
   "metadata": {
    "tags": []
   },
   "outputs": [],
   "source": [
    "food.to_csv('food_use.csv', index = False)"
   ]
  },
  {
   "cell_type": "markdown",
   "id": "65c6dc52-5f9b-4f7e-9ca5-804c3a95f8c5",
   "metadata": {},
   "source": [
    "## Graph Exploration"
   ]
  },
  {
   "cell_type": "markdown",
   "id": "0e72f58c-2afe-4e96-a650-11c229a0cbd1",
   "metadata": {},
   "source": [
    "## Date"
   ]
  },
  {
   "cell_type": "code",
   "execution_count": 33,
   "id": "e87b2d28-8704-42b7-958b-14ff81ff1f30",
   "metadata": {
    "tags": []
   },
   "outputs": [
    {
     "data": {
      "image/png": "[encoded data removed]",
      "text/plain": [
       "<Figure size 1000x600 with 1 Axes>"
      ]
     },
     "metadata": {},
     "output_type": "display_data"
    }
   ],
   "source": [
    "plt.figure(figsize=(10, 6))\n",
    "plt.hist(date['upvote_ratio'], bins=20, color='black', edgecolor='black')\n",
    "plt.xlabel('Upvote Ratio')\n",
    "plt.ylabel('Frequency')\n",
    "plt.title('Histogram: Upvote Ratio')\n",
    "plt.tight_layout()\n",
    "plt.show()"
   ]
  },
  {
   "cell_type": "code",
   "execution_count": 34,
   "id": "b6a04d54-ea35-4239-97d4-665129976732",
   "metadata": {
    "tags": []
   },
   "outputs": [
    {
     "data": {
      "image/png": "[encoded data removed]",
      "text/plain": [
       "<Figure size 1000x600 with 1 Axes>"
      ]
     },
     "metadata": {},
     "output_type": "display_data"
    }
   ],
   "source": [
    "plt.figure(figsize=(10, 6))\n",
    "plt.hist(date['score'], bins=20, color='skyblue', edgecolor='black')\n",
    "plt.xlabel('Score')\n",
    "plt.ylabel('Frequency')\n",
    "plt.title('Histogram: Score')\n",
    "plt.tight_layout()\n",
    "plt.show()"
   ]
  },
  {
   "cell_type": "code",
   "execution_count": 45,
   "id": "7d529eb3-4ae5-4ffc-895e-e60696037fcf",
   "metadata": {
    "tags": []
   },
   "outputs": [
    {
     "data": {
      "image/png": "[encoded data removed]",
      "text/plain": [
       "<Figure size 800x800 with 3 Axes>"
      ]
     },
     "metadata": {},
     "output_type": "display_data"
    },
    {
     "data": {
      "text/plain": [
       "<Figure size 640x480 with 0 Axes>"
      ]
     },
     "metadata": {},
     "output_type": "display_data"
    }
   ],
   "source": [
    "fig, (ax1, ax2, ax3) = plt.subplots(3, 1, figsize=(8, 8))\n",
    "\n",
    "ax1.hist(date['status_word_count'], bins=20, color='orange', edgecolor='black')\n",
    "ax1.set_xlabel('Word Count')\n",
    "ax1.set_ylabel('Frequency')\n",
    "ax1.set_title('Distribution of Post Word Counts')\n",
    "\n",
    "ax2.hist(date['status_char_count'], bins=20, color='green', edgecolor='black')\n",
    "ax2.set_xlabel('Character Count')\n",
    "ax2.set_ylabel('Frequency')\n",
    "ax2.set_title('Distribution of Post Character Counts')\n",
    "\n",
    "ax3.hist(date['status_length'], bins=20, color='blue', edgecolor='black')\n",
    "ax3.set_xlabel('Status Length')\n",
    "ax3.set_ylabel('Frequency')\n",
    "ax3.set_title('Distribution of Status Length')\n",
    "\n",
    "\n",
    "plt.tight_layout()\n",
    "plt.show()\n",
    "\n",
    "plt.savefig('./images/date_subplot.png', bbox_inches = 'tight')"
   ]
  },
  {
   "cell_type": "markdown",
   "id": "febc7e4d-bc2e-4b98-acb0-bd901d1fe96f",
   "metadata": {},
   "source": [
    "***Date Graph Evaluations***\n",
    "+ Both upvote and score graphs are very all or nothing distributions which do not tell us much about the overall workings of the dataset. This does make sense though since like most things on the internet virality isn't equally distributed. Will not use those for the food graph below.\n",
    "+ For length, character counts, and word counts we see a expected trend to where we start to drop off in post length over 200 words. The words seem to be shorter since the character lengths were following the trends that the word count set. Status length accompanying the other two graphs to secure the trend on how the posts were averaged. "
   ]
  },
  {
   "cell_type": "markdown",
   "id": "c41a898e-c66f-4742-a354-5818a89c1324",
   "metadata": {},
   "source": [
    "## Food Graphs"
   ]
  },
  {
   "cell_type": "code",
   "execution_count": 47,
   "id": "30190d83-2319-4b3f-a306-acb38730c8a2",
   "metadata": {
    "tags": []
   },
   "outputs": [
    {
     "data": {
      "image/png": "[encoded data removed]",
      "text/plain": [
       "<Figure size 1000x800 with 3 Axes>"
      ]
     },
     "metadata": {},
     "output_type": "display_data"
    },
    {
     "data": {
      "text/plain": [
       "<Figure size 640x480 with 0 Axes>"
      ]
     },
     "metadata": {},
     "output_type": "display_data"
    }
   ],
   "source": [
    "fig, (ax1, ax2, ax3) = plt.subplots(3, 1, figsize=(10, 8))\n",
    "\n",
    "ax1.hist(food['status_word_count'], bins=20, color='orange', edgecolor='black')\n",
    "ax1.set_xlabel('Word Count')\n",
    "ax1.set_ylabel('Frequency')\n",
    "ax1.set_title('Distribution of Post Word Counts')\n",
    "\n",
    "ax2.hist(food['status_char_count'], bins=20, color='green', edgecolor='black')\n",
    "ax2.set_xlabel('Character Count')\n",
    "ax2.set_ylabel('Frequency')\n",
    "ax2.set_title('Distribution of Post Character Counts')\n",
    "\n",
    "ax3.hist(food['status_length'], bins=20, color='blue', edgecolor='black')\n",
    "ax3.set_xlabel('Status Length')\n",
    "ax3.set_ylabel('Frequency')\n",
    "ax3.set_title('Distribution of Status Length')\n",
    "\n",
    "\n",
    "plt.tight_layout()\n",
    "plt.show()\n",
    "\n",
    "plt.savefig('./images/food_subplot.png', bbox_inches = 'tight')"
   ]
  },
  {
   "cell_type": "markdown",
   "id": "b0d23e14-a3d9-4372-b567-9f96fc1de41a",
   "metadata": {},
   "source": [
    "***Food Graph Evaluations***\n",
    "+ Quite a contrast as compared to the date graphs. It appears the posts are generally 200 words and below. \n",
    "+ The character count and status length are longer though showing that the words used in the posts are longer than the ones used in the date dataset.\n",
    "+ This could be due to the use of cooking metrics like, temperature, water, and boiling. "
   ]
  },
  {
   "cell_type": "markdown",
   "id": "77d78123-8e04-486c-be1c-75f788a31c6c",
   "metadata": {},
   "source": [
    "## EDA on Word Counts"
   ]
  },
  {
   "cell_type": "markdown",
   "id": "a13b194e-8065-4529-be34-40279e2a7369",
   "metadata": {
    "tags": []
   },
   "source": [
    "***Date Words***"
   ]
  },
  {
   "cell_type": "code",
   "execution_count": 38,
   "id": "2c40f06b-d8da-4a5a-a38c-5736fba7323f",
   "metadata": {
    "tags": []
   },
   "outputs": [],
   "source": [
    "#Bigrams\n",
    "\n",
    "cvec = CountVectorizer(stop_words = 'english')\n",
    "\n",
    "cvec.fit(date['title_and_selftext'])\n",
    "\n",
    "nstat = cvec.transform(date['title_and_selftext'])"
   ]
  },
  {
   "cell_type": "code",
   "execution_count": 39,
   "id": "90916f1f-e960-44ff-b65d-d11a34c35e36",
   "metadata": {
    "tags": []
   },
   "outputs": [
    {
     "data": {
      "text/plain": [
       "<1764x10794 sparse matrix of type '<class 'numpy.int64'>'\n",
       "\twith 110135 stored elements in Compressed Sparse Row format>"
      ]
     },
     "execution_count": 39,
     "metadata": {},
     "output_type": "execute_result"
    }
   ],
   "source": [
    "nstat"
   ]
  },
  {
   "cell_type": "code",
   "execution_count": 40,
   "id": "6590d833-f11b-4a8e-815f-cb540d203c4d",
   "metadata": {
    "tags": []
   },
   "outputs": [],
   "source": [
    "statdf = pd.DataFrame(nstat.todense(),\n",
    "                     columns = cvec.get_feature_names_out())"
   ]
  },
  {
   "cell_type": "code",
   "execution_count": 41,
   "id": "1331eba8-0c80-46c4-963e-40c39893f3ef",
   "metadata": {
    "tags": []
   },
   "outputs": [
    {
     "name": "stdout",
     "output_type": "stream",
     "text": [
      "just            2514\n",
      "like            2482\n",
      "don             1519\n",
      "know            1368\n",
      "want            1322\n",
      "time            1300\n",
      "ve              1289\n",
      "really          1281\n",
      "dating          1227\n",
      "feel            1120\n",
      "date            1084\n",
      "said             944\n",
      "relationship     905\n",
      "think            880\n",
      "people           764\n",
      "dtype: int64\n"
     ]
    }
   ],
   "source": [
    "word_counts = statdf.sum()\n",
    "\n",
    "top_fifteen = word_counts.sort_values(ascending = False).head(15)\n",
    "\n",
    "print(top_fifteen)"
   ]
  },
  {
   "cell_type": "markdown",
   "id": "a58d042c-3d7e-4d74-adfc-e865884128b8",
   "metadata": {},
   "source": [
    "***Evaluations***\n",
    "\n",
    "+ The majority of the words are focused on asking for advice. \n",
    "+ We see some key words like relationship, dating, date, and people.\n",
    "+ Checking out Lemmatization or Stemming may prove useful later on."
   ]
  },
  {
   "cell_type": "markdown",
   "id": "e37294fd-d162-4125-a1ef-d0f3c6108b50",
   "metadata": {},
   "source": [
    "***Food Words***"
   ]
  },
  {
   "cell_type": "code",
   "execution_count": 42,
   "id": "f4817b6f-2c25-4c58-80da-66a48423dcc2",
   "metadata": {
    "tags": []
   },
   "outputs": [],
   "source": [
    "cvec = CountVectorizer(stop_words = 'english')\n",
    "\n",
    "cvec.fit(food['title_and_selftext'])\n",
    "\n",
    "fstat = cvec.transform(food['title_and_selftext'])"
   ]
  },
  {
   "cell_type": "code",
   "execution_count": 43,
   "id": "c36c3a6d-38a0-4b0f-9fba-b073fd73ed73",
   "metadata": {
    "tags": []
   },
   "outputs": [
    {
     "data": {
      "text/plain": [
       "<1056x7844 sparse matrix of type '<class 'numpy.int64'>'\n",
       "\twith 40982 stored elements in Compressed Sparse Row format>"
      ]
     },
     "execution_count": 43,
     "metadata": {},
     "output_type": "execute_result"
    }
   ],
   "source": [
    "fstat"
   ]
  },
  {
   "cell_type": "code",
   "execution_count": 44,
   "id": "2c724563-8b39-4e9b-a97a-1ec5c9dfd42f",
   "metadata": {
    "tags": []
   },
   "outputs": [],
   "source": [
    "statdf = pd.DataFrame(fstat.todense(),\n",
    "                     columns = cvec.get_feature_names_out())"
   ]
  },
  {
   "cell_type": "code",
   "execution_count": 45,
   "id": "62d849c6-9949-41e2-95c4-f7dbe64d80d3",
   "metadata": {
    "tags": []
   },
   "outputs": [
    {
     "name": "stdout",
     "output_type": "stream",
     "text": [
      "like       501\n",
      "make       494\n",
      "just       473\n",
      "recipe     380\n",
      "ve         372\n",
      "use        353\n",
      "chicken    293\n",
      "time       289\n",
      "water      269\n",
      "making     264\n",
      "sauce      262\n",
      "don        246\n",
      "know       244\n",
      "cook       240\n",
      "https      230\n",
      "dtype: int64\n"
     ]
    }
   ],
   "source": [
    "word_counts = statdf.sum()\n",
    "\n",
    "top_fifteen = word_counts.sort_values(ascending = False).head(15)\n",
    "\n",
    "print(top_fifteen)"
   ]
  },
  {
   "cell_type": "markdown",
   "id": "1aeaf07f-18e1-4011-b96f-2f57ef02f10c",
   "metadata": {},
   "source": [
    "***Evaluations***\n",
    "+ Just like the date dataset people are still asking for advice so a lot of the same words are seen here.\n",
    "+ Key words are chicken, water, sauce, cook, recipe, and https.\n",
    "+ Looks like we will have to remove the URL links in the posts down the line."
   ]
  }
 ],
 "metadata": {
  "kernelspec": {
   "display_name": "Python 3 (ipykernel)",
   "language": "python",
   "name": "python3"
  },
  "language_info": {
   "codemirror_mode": {
    "name": "ipython",
    "version": 3
   },
   "file_extension": ".py",
   "mimetype": "text/x-python",
   "name": "python",
   "nbconvert_exporter": "python",
   "pygments_lexer": "ipython3",
   "version": "3.8.16"
  }
 },
 "nbformat": 4,
 "nbformat_minor": 5
}
