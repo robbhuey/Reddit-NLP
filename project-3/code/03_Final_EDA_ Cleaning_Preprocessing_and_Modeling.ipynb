{
 "cells": [
  {
   "cell_type": "markdown",
   "id": "1d9c64bc-458b-4fe0-8451-517e791bd927",
   "metadata": {},
   "source": [
    "# Preprocessing and Modeling"
   ]
  },
  {
   "cell_type": "markdown",
   "id": "aaabce76-857d-4dce-93ab-4ea389ac7cdb",
   "metadata": {},
   "source": [
    "***IMPORTS***"
   ]
  },
  {
   "cell_type": "code",
   "execution_count": 1,
   "id": "7f1736ff-bb69-4514-b7ac-2450aec1bd91",
   "metadata": {
    "tags": []
   },
   "outputs": [],
   "source": [
    "import pandas as pd\n",
    "import numpy as np\n",
    "import matplotlib.pyplot as plt\n",
    "\n",
    "# sklearn imports\n",
    "from sklearn.linear_model import LogisticRegression\n",
    "from sklearn.neighbors import KNeighborsClassifier\n",
    "from sklearn.model_selection import train_test_split, GridSearchCV\n",
    "from sklearn.pipeline import Pipeline\n",
    "from sklearn.metrics import ConfusionMatrixDisplay, RocCurveDisplay\n",
    "from sklearn.feature_extraction.text import CountVectorizer, TfidfVectorizer\n",
    "from nltk.corpus import stopwords\n",
    "\n",
    "from nltk.stem import WordNetLemmatizer\n",
    "from nltk.stem.porter import PorterStemmer\n",
    "from nltk.sentiment.vader import SentimentIntensityAnalyzer\n",
    "\n",
    "from sklearn.tree import DecisionTreeClassifier\n",
    "from sklearn.ensemble import BaggingClassifier, RandomForestClassifier, ExtraTreesClassifier, GradientBoostingClassifier, AdaBoostClassifier, VotingClassifier\n",
    "from sklearn.metrics import confusion_matrix\n",
    "\n",
    "import re\n",
    "import string\n",
    "import nltk\n",
    "\n",
    "pd.options.display.max_colwidth = 400"
   ]
  },
  {
   "cell_type": "markdown",
   "id": "b00d485d-1bdb-42ac-9987-b9274237c3a6",
   "metadata": {},
   "source": [
    "***Loading in the Datasets and Adding Target Column to Distinguish Between Posts***"
   ]
  },
  {
   "cell_type": "code",
   "execution_count": 89,
   "id": "ceedb4cc-b301-4cd3-9656-a6dda708ae35",
   "metadata": {
    "tags": []
   },
   "outputs": [],
   "source": [
    "date = pd.read_csv('./data_collection_days/date_use.csv')\n",
    "food = pd.read_csv('./data_collection_days/food_use.csv')"
   ]
  },
  {
   "cell_type": "code",
   "execution_count": 90,
   "id": "94da1b8d-5b67-490d-8e8a-7617066cbe14",
   "metadata": {
    "tags": []
   },
   "outputs": [],
   "source": [
    "date['target'] = 1"
   ]
  },
  {
   "cell_type": "code",
   "execution_count": 91,
   "id": "4c0cba5b-aafb-4854-817f-c158b5c17631",
   "metadata": {
    "tags": []
   },
   "outputs": [],
   "source": [
    "food['target'] = 0 "
   ]
  },
  {
   "cell_type": "markdown",
   "id": "77f67f95-c4d7-4abc-a64a-31df11765fd7",
   "metadata": {},
   "source": [
    "***Combining the datasets***"
   ]
  },
  {
   "cell_type": "code",
   "execution_count": 92,
   "id": "36dde9d7-be28-4d18-a022-bd78244448c8",
   "metadata": {
    "tags": []
   },
   "outputs": [],
   "source": [
    "combo = pd.concat([date, food], ignore_index=True)"
   ]
  },
  {
   "cell_type": "markdown",
   "id": "aabb4263-f5b6-471c-93d0-d777d3818733",
   "metadata": {},
   "source": [
    "***Using Regex to Eliminate Noise from Combined Datasets***"
   ]
  },
  {
   "cell_type": "code",
   "execution_count": 6,
   "id": "c0003662-95ce-489a-944d-75f905b9cc51",
   "metadata": {
    "tags": []
   },
   "outputs": [],
   "source": [
    "def cleaner(text):\n",
    "    # Make lowercase\n",
    "    text = text.lower()\n",
    "\n",
    "    # Remove HTML special entities\n",
    "    text = re.sub(r'\\&\\w*;', '', text)\n",
    "    \n",
    "    # Remove hyperlinks\n",
    "    text = re.sub(r'https?:\\/\\/.*\\/\\w*', '', text)\n",
    "    \n",
    "    # Remove punctuation and split 's, 't, 've with a space for filter\n",
    "    #text = re.sub(r'[' + string.punctuation.replace('@', '') + ']+', ' ', text)\n",
    "    \n",
    "    # Remove words with 2 or fewer letters\n",
    "    #text = re.sub(r'\\b\\w{1,2}\\b', '', text)\n",
    "    \n",
    "    # Remove whitespace (including new line characters)\n",
    "    #text = re.sub(r'\\s\\s+', ' ', text)\n",
    "    \n",
    "    # Remove characters beyond Basic Multilingual Plane (BMP) of Unicode:\n",
    "    text = ''.join(c for c in text if c <= '\\uFFFF') \n",
    "    \n",
    "    return text"
   ]
  },
  {
   "cell_type": "code",
   "execution_count": 7,
   "id": "a41a7791-45f5-47ba-ba53-85f81f9278ab",
   "metadata": {
    "tags": []
   },
   "outputs": [],
   "source": [
    "combo['title_and_selftext'] = combo['title_and_selftext'].apply(cleaner)"
   ]
  },
  {
   "cell_type": "markdown",
   "id": "55f8cc72-690d-40ce-8356-89aef2ecdc53",
   "metadata": {
    "tags": []
   },
   "source": [
    "## Create X and y"
   ]
  },
  {
   "cell_type": "code",
   "execution_count": 8,
   "id": "4651d46c-7e67-4b14-9bae-d5f03cd0090c",
   "metadata": {
    "tags": []
   },
   "outputs": [],
   "source": [
    "X = combo['title_and_selftext']\n",
    "\n",
    "y = combo['target']"
   ]
  },
  {
   "cell_type": "markdown",
   "id": "86b27bbf-1893-4d0c-be9d-f2e8477f5442",
   "metadata": {},
   "source": [
    "***Baseline Accuracy***"
   ]
  },
  {
   "cell_type": "code",
   "execution_count": 9,
   "id": "1e994e8d-e677-4148-9020-8fc57bbec690",
   "metadata": {
    "tags": []
   },
   "outputs": [
    {
     "data": {
      "text/plain": [
       "1    0.625532\n",
       "0    0.374468\n",
       "Name: target, dtype: float64"
      ]
     },
     "execution_count": 9,
     "metadata": {},
     "output_type": "execute_result"
    }
   ],
   "source": [
    "y.value_counts(normalize = True)"
   ]
  },
  {
   "cell_type": "markdown",
   "id": "881f2c62-3704-4a86-855d-e77bc0f13f73",
   "metadata": {},
   "source": [
    "Date makes up the majority of the accuracy score at 62.6% and Food makes up 37.4%"
   ]
  },
  {
   "cell_type": "code",
   "execution_count": 10,
   "id": "dc8934de-9d2c-4c30-b0f3-c3fc7c778405",
   "metadata": {
    "tags": []
   },
   "outputs": [],
   "source": [
    "X_train, X_test, y_train, y_test = train_test_split(X,y,stratify=y,random_state=42)"
   ]
  },
  {
   "cell_type": "code",
   "execution_count": 11,
   "id": "6e1c1f3d-6213-4630-a0f4-00c6e9382ea5",
   "metadata": {
    "tags": []
   },
   "outputs": [],
   "source": [
    "cvec = CountVectorizer()"
   ]
  },
  {
   "cell_type": "code",
   "execution_count": 12,
   "id": "81e97866-c473-4a0b-aad6-1c3cc82a24d2",
   "metadata": {
    "tags": []
   },
   "outputs": [
    {
     "data": {
      "text/html": [
       "<style>#sk-container-id-1 {color: black;background-color: white;}#sk-container-id-1 pre{padding: 0;}#sk-container-id-1 div.sk-toggleable {background-color: white;}#sk-container-id-1 label.sk-toggleable__label {cursor: pointer;display: block;width: 100%;margin-bottom: 0;padding: 0.3em;box-sizing: border-box;text-align: center;}#sk-container-id-1 label.sk-toggleable__label-arrow:before {content: \"▸\";float: left;margin-right: 0.25em;color: #696969;}#sk-container-id-1 label.sk-toggleable__label-arrow:hover:before {color: black;}#sk-container-id-1 div.sk-estimator:hover label.sk-toggleable__label-arrow:before {color: black;}#sk-container-id-1 div.sk-toggleable__content {max-height: 0;max-width: 0;overflow: hidden;text-align: left;background-color: #f0f8ff;}#sk-container-id-1 div.sk-toggleable__content pre {margin: 0.2em;color: black;border-radius: 0.25em;background-color: #f0f8ff;}#sk-container-id-1 input.sk-toggleable__control:checked~div.sk-toggleable__content {max-height: 200px;max-width: 100%;overflow: auto;}#sk-container-id-1 input.sk-toggleable__control:checked~label.sk-toggleable__label-arrow:before {content: \"▾\";}#sk-container-id-1 div.sk-estimator input.sk-toggleable__control:checked~label.sk-toggleable__label {background-color: #d4ebff;}#sk-container-id-1 div.sk-label input.sk-toggleable__control:checked~label.sk-toggleable__label {background-color: #d4ebff;}#sk-container-id-1 input.sk-hidden--visually {border: 0;clip: rect(1px 1px 1px 1px);clip: rect(1px, 1px, 1px, 1px);height: 1px;margin: -1px;overflow: hidden;padding: 0;position: absolute;width: 1px;}#sk-container-id-1 div.sk-estimator {font-family: monospace;background-color: #f0f8ff;border: 1px dotted black;border-radius: 0.25em;box-sizing: border-box;margin-bottom: 0.5em;}#sk-container-id-1 div.sk-estimator:hover {background-color: #d4ebff;}#sk-container-id-1 div.sk-parallel-item::after {content: \"\";width: 100%;border-bottom: 1px solid gray;flex-grow: 1;}#sk-container-id-1 div.sk-label:hover label.sk-toggleable__label {background-color: #d4ebff;}#sk-container-id-1 div.sk-serial::before {content: \"\";position: absolute;border-left: 1px solid gray;box-sizing: border-box;top: 0;bottom: 0;left: 50%;z-index: 0;}#sk-container-id-1 div.sk-serial {display: flex;flex-direction: column;align-items: center;background-color: white;padding-right: 0.2em;padding-left: 0.2em;position: relative;}#sk-container-id-1 div.sk-item {position: relative;z-index: 1;}#sk-container-id-1 div.sk-parallel {display: flex;align-items: stretch;justify-content: center;background-color: white;position: relative;}#sk-container-id-1 div.sk-item::before, #sk-container-id-1 div.sk-parallel-item::before {content: \"\";position: absolute;border-left: 1px solid gray;box-sizing: border-box;top: 0;bottom: 0;left: 50%;z-index: -1;}#sk-container-id-1 div.sk-parallel-item {display: flex;flex-direction: column;z-index: 1;position: relative;background-color: white;}#sk-container-id-1 div.sk-parallel-item:first-child::after {align-self: flex-end;width: 50%;}#sk-container-id-1 div.sk-parallel-item:last-child::after {align-self: flex-start;width: 50%;}#sk-container-id-1 div.sk-parallel-item:only-child::after {width: 0;}#sk-container-id-1 div.sk-dashed-wrapped {border: 1px dashed gray;margin: 0 0.4em 0.5em 0.4em;box-sizing: border-box;padding-bottom: 0.4em;background-color: white;}#sk-container-id-1 div.sk-label label {font-family: monospace;font-weight: bold;display: inline-block;line-height: 1.2em;}#sk-container-id-1 div.sk-label-container {text-align: center;}#sk-container-id-1 div.sk-container {/* jupyter's `normalize.less` sets `[hidden] { display: none; }` but bootstrap.min.css set `[hidden] { display: none !important; }` so we also need the `!important` here to be able to override the default hidden behavior on the sphinx rendered scikit-learn.org. See: https://github.com/scikit-learn/scikit-learn/issues/21755 */display: inline-block !important;position: relative;}#sk-container-id-1 div.sk-text-repr-fallback {display: none;}</style><div id=\"sk-container-id-1\" class=\"sk-top-container\"><div class=\"sk-text-repr-fallback\"><pre>CountVectorizer()</pre><b>In a Jupyter environment, please rerun this cell to show the HTML representation or trust the notebook. <br />On GitHub, the HTML representation is unable to render, please try loading this page with nbviewer.org.</b></div><div class=\"sk-container\" hidden><div class=\"sk-item\"><div class=\"sk-estimator sk-toggleable\"><input class=\"sk-toggleable__control sk-hidden--visually\" id=\"sk-estimator-id-1\" type=\"checkbox\" checked><label for=\"sk-estimator-id-1\" class=\"sk-toggleable__label sk-toggleable__label-arrow\">CountVectorizer</label><div class=\"sk-toggleable__content\"><pre>CountVectorizer()</pre></div></div></div></div></div>"
      ],
      "text/plain": [
       "CountVectorizer()"
      ]
     },
     "execution_count": 12,
     "metadata": {},
     "output_type": "execute_result"
    }
   ],
   "source": [
    "cvec.fit(X_train)"
   ]
  },
  {
   "cell_type": "code",
   "execution_count": 13,
   "id": "d6d2038d-fcd9-48bf-ad36-381bbf91aa55",
   "metadata": {
    "tags": []
   },
   "outputs": [],
   "source": [
    "X_train = cvec.transform(X_train)"
   ]
  },
  {
   "cell_type": "code",
   "execution_count": 14,
   "id": "f71cc9d9-2556-4fb1-8302-f924a6153b95",
   "metadata": {
    "tags": []
   },
   "outputs": [
    {
     "data": {
      "text/plain": [
       "matrix([[0, 0, 0, ..., 0, 0, 0],\n",
       "        [0, 0, 0, ..., 0, 0, 0],\n",
       "        [0, 0, 0, ..., 0, 0, 0],\n",
       "        ...,\n",
       "        [0, 0, 0, ..., 0, 0, 0],\n",
       "        [0, 0, 0, ..., 0, 0, 0],\n",
       "        [0, 0, 0, ..., 0, 0, 0]])"
      ]
     },
     "execution_count": 14,
     "metadata": {},
     "output_type": "execute_result"
    }
   ],
   "source": [
    "#To show as a matrix.\n",
    "X_train.todense()"
   ]
  },
  {
   "cell_type": "markdown",
   "id": "9528058c-1f49-4f5d-b7c1-ab69196e4b92",
   "metadata": {},
   "source": [
    "## Finding the Stopwords"
   ]
  },
  {
   "cell_type": "code",
   "execution_count": 15,
   "id": "b1b0dc67-eebe-4608-9138-15381babf5e0",
   "metadata": {
    "tags": []
   },
   "outputs": [
    {
     "data": {
      "image/png": "[encoded data removed]",
      "text/plain": [
       "<Figure size 640x480 with 1 Axes>"
      ]
     },
     "metadata": {},
     "output_type": "display_data"
    }
   ],
   "source": [
    "X_train_df = pd.DataFrame(X_train.todense(), \n",
    "                          columns=cvec.get_feature_names_out())\n",
    "\n",
    "# plot top occuring words\n",
    "X_train_df.sum().sort_values(ascending = False).head(10).plot(kind = 'barh');"
   ]
  },
  {
   "cell_type": "code",
   "execution_count": 16,
   "id": "f1d836a3-04e2-465f-8231-c85ff5efafcc",
   "metadata": {
    "tags": []
   },
   "outputs": [
    {
     "name": "stdout",
     "output_type": "stream",
     "text": [
      "frozenset({'eight', 'put', 'whither', 'beside', 'con', 'sometime', 'here', 'becoming', 'onto', 'upon', 'empty', 'ourselves', 'after', 'hereupon', 'anything', 'bottom', 'nowhere', 'five', 'also', 'still', 'all', 'thereby', 'afterwards', 'an', 'as', 'before', 'thin', 'indeed', 'describe', 'see', 'alone', 'by', 'none', 'do', 'co', 'seems', 'what', 'sometimes', 'out', 'again', 'us', 'should', 'until', 'latter', 'with', 'back', 'no', 'in', 'almost', 'about', 'hers', 'were', 'something', 'is', 'already', 'moreover', 'herself', 'nothing', 'some', 'whence', 'everything', 'less', 'into', 'another', 'perhaps', 'formerly', 'mine', 'system', 'might', 'first', 'each', 'sincere', 'nevertheless', 'otherwise', 'anywhere', 'always', 'fire', 'themselves', 'your', 'they', 'which', 'you', 'myself', 'cry', 'and', 'becomes', 'any', 'may', 'move', 'whereafter', 'done', 'not', 'between', 'few', 'everywhere', 'seeming', 'down', 'must', 'thereupon', 'whatever', 'either', 'been', 'somewhere', 'that', 'whereupon', 'now', 'every', 'made', 'else', 'fill', 'at', 'off', 'four', 'seemed', 'be', 'often', 'amount', 'eg', 'name', 'on', 'under', 'whom', 'go', 'such', 'anyway', 'the', 'hereafter', 'she', 'twelve', 'though', 'give', 'to', 'much', 'namely', 'anyhow', 'their', 'top', 'keep', 'interest', 'its', 'wherever', 'most', 'his', 'am', 'ten', 'other', 'neither', 'forty', 'being', 'anyone', 'de', 'sixty', 'one', 'hence', 'herein', 'become', 'since', 'enough', 'get', 'those', 'behind', 'cannot', 'further', 'many', 'through', 'couldnt', 'fifteen', 'via', 'last', 'then', 'per', 'find', 'please', 'others', 'will', 'above', 'beyond', 'could', 'well', 're', 'or', 'front', 'very', 'wherein', 'both', 'i', 'therefore', 'whereby', 'we', 'whether', 'yourself', 'third', 'serious', 'except', 'yet', 'mostly', 'too', 'noone', 'therein', 'he', 'only', 'cant', 'whole', 'throughout', 'me', 'thereafter', 'where', 'inc', 'found', 'during', 'can', 'has', 'whenever', 'thence', 'due', 'elsewhere', 'take', 'there', 'several', 'same', 'yourselves', 'show', 'once', 'this', 'a', 'beforehand', 'up', 'although', 'ltd', 'who', 'itself', 'thick', 'while', 'twenty', 'across', 'part', 'never', 'if', 'towards', 'latterly', 'him', 'call', 'it', 'became', 'would', 'former', 'because', 'seem', 'hereby', 'amongst', 'nor', 'are', 'eleven', 'bill', 'against', 'somehow', 'these', 'my', 'etc', 'within', 'when', 'ever', 'had', 'how', 'un', 'have', 'six', 'fifty', 'so', 'below', 'rather', 'meanwhile', 'full', 'hasnt', 'of', 'two', 'than', 'toward', 'around', 'whereas', 'but', 'hundred', 'ie', 'our', 'over', 'whoever', 'yours', 'mill', 'someone', 'own', 'along', 'least', 'from', 'nine', 'thus', 'however', 'even', 'side', 'ours', 'detail', 'nobody', 'everyone', 'amoungst', 'for', 'together', 'next', 'without', 'was', 'besides', 'more', 'himself', 'whose', 'her', 'among', 'thru', 'them', 'why', 'three'})\n"
     ]
    }
   ],
   "source": [
    "# Let's look at sklearn's stopwords.\n",
    "print(CountVectorizer(stop_words = 'english').get_stop_words())"
   ]
  },
  {
   "cell_type": "markdown",
   "id": "ac2a0cba-0f2e-41a0-988f-9e2491365382",
   "metadata": {},
   "source": [
    "***Findings***\n",
    "By taking out the stopwords we should be able to get to more of the meat from the posts to start looking into the modeling. The majority of the words taken out were used for imperative sentences."
   ]
  },
  {
   "cell_type": "markdown",
   "id": "64fbf400-8de4-4b42-8de7-3cda710eca53",
   "metadata": {},
   "source": [
    "## Top Words without Stopwords."
   ]
  },
  {
   "cell_type": "code",
   "execution_count": 17,
   "id": "25334619-7482-4a75-8412-6c4c373606fc",
   "metadata": {
    "tags": []
   },
   "outputs": [],
   "source": [
    "cvec = CountVectorizer(stop_words = 'english')\n",
    "\n",
    "cvec.fit(combo['title_and_selftext'])\n",
    "\n",
    "nstat = cvec.transform(combo['title_and_selftext'])"
   ]
  },
  {
   "cell_type": "code",
   "execution_count": 18,
   "id": "ef4a2a9c-f93a-4df4-9db1-3b6d7ba957bf",
   "metadata": {
    "tags": []
   },
   "outputs": [
    {
     "data": {
      "text/plain": [
       "<2820x14992 sparse matrix of type '<class 'numpy.int64'>'\n",
       "\twith 149786 stored elements in Compressed Sparse Row format>"
      ]
     },
     "execution_count": 18,
     "metadata": {},
     "output_type": "execute_result"
    }
   ],
   "source": [
    "nstat"
   ]
  },
  {
   "cell_type": "code",
   "execution_count": 19,
   "id": "42123df8-3e11-48a0-9ce6-d81451d10596",
   "metadata": {
    "tags": []
   },
   "outputs": [],
   "source": [
    "statdf = pd.DataFrame(nstat.todense(),\n",
    "                     columns = cvec.get_feature_names_out())"
   ]
  },
  {
   "cell_type": "code",
   "execution_count": 20,
   "id": "3e2ceb67-4142-4b7e-80a0-aaf4d28c5aff",
   "metadata": {
    "tags": []
   },
   "outputs": [
    {
     "name": "stdout",
     "output_type": "stream",
     "text": [
      "just            2985\n",
      "like            2983\n",
      "don             1763\n",
      "ve              1661\n",
      "know            1607\n",
      "time            1588\n",
      "want            1512\n",
      "really          1416\n",
      "dating          1227\n",
      "feel            1161\n",
      "date            1096\n",
      "make             989\n",
      "said             988\n",
      "think            975\n",
      "relationship     905\n",
      "dtype: int64\n"
     ]
    }
   ],
   "source": [
    "word_counts = statdf.sum()\n",
    "\n",
    "top_fifteen = word_counts.sort_values(ascending = False).head(15)\n",
    "\n",
    "print(top_fifteen)"
   ]
  },
  {
   "cell_type": "markdown",
   "id": "f535ff89-c16b-4c2d-b3f7-1bb4eddff8e0",
   "metadata": {},
   "source": [
    "***Findings***\n",
    "We can see by taking out the stopwords we were left with more decisive words and key words used in the reddits chosen. This still seems like an easy model to predict though."
   ]
  },
  {
   "cell_type": "markdown",
   "id": "78f9a270-6551-453f-ba1e-c75d6d9164df",
   "metadata": {},
   "source": [
    "## Top 2 combined words in the dataset without stopwords."
   ]
  },
  {
   "cell_type": "code",
   "execution_count": 21,
   "id": "4e0de676-30ee-4c85-89b5-b93f0868f0c7",
   "metadata": {
    "tags": []
   },
   "outputs": [
    {
     "name": "stdout",
     "output_type": "stream",
     "text": [
      "            Bigram  Count\n",
      "42290    feel like    434\n",
      "34969     don know    397\n",
      "35125     don want    319\n",
      "29350  dating apps    142\n",
      "66131    just want    105\n",
      "42996    felt like    102\n",
      "99855  really like    101\n",
      "35103    don think     95\n",
      "74151    long term     89\n",
      "32625    didn want     87\n"
     ]
    }
   ],
   "source": [
    "vectorizer = CountVectorizer(ngram_range=(2, 2), stop_words = 'english') \n",
    "\n",
    "count_matrix = vectorizer.fit_transform(combo['title_and_selftext'])\n",
    "\n",
    "vocab = vectorizer.get_feature_names_out()\n",
    "\n",
    "bigram_counts = count_matrix.sum(axis=0)\n",
    "\n",
    "bigram_df = pd.DataFrame({\n",
    "    'Bigram': vocab,\n",
    "    'Count': bigram_counts.flat\n",
    "})\n",
    "\n",
    "bigram_df_sorted = bigram_df.sort_values(by='Count', ascending=False)\n",
    "\n",
    "print(bigram_df_sorted.head(10))\n"
   ]
  },
  {
   "cell_type": "markdown",
   "id": "33bced41-26a0-4d43-8035-4cf37d58b6e1",
   "metadata": {},
   "source": [
    "***Findings***\n",
    "Filtered out more to see what the common phrases would be and this is looking like a better example for my problem statement."
   ]
  },
  {
   "cell_type": "markdown",
   "id": "162df08e-1629-4791-b77f-0a54bce68e2a",
   "metadata": {},
   "source": [
    "## Lemmatizing "
   ]
  },
  {
   "cell_type": "code",
   "execution_count": 22,
   "id": "92ea62e5-993f-4b73-a8bd-ed48375e87fd",
   "metadata": {
    "tags": []
   },
   "outputs": [],
   "source": [
    "combolem = combo"
   ]
  },
  {
   "cell_type": "code",
   "execution_count": 23,
   "id": "fcda54ed-f24b-48f8-9ef7-31c3e2a0e2e3",
   "metadata": {
    "tags": []
   },
   "outputs": [],
   "source": [
    "def lemmatize_word(word):\n",
    "    lemmatizer = WordNetLemmatizer()\n",
    "    pos_tag = nltk.pos_tag([word])[0][1]\n",
    "    pos = get_wordnet_pos(pos_tag)\n",
    "    if pos:\n",
    "        return lemmatizer.lemmatize(word, pos=pos)\n",
    "    else:\n",
    "        return lemmatizer.lemmatize(word)\n",
    "\n",
    "def get_wordnet_pos(tag):\n",
    "    if tag.startswith('J'):\n",
    "        return nltk.corpus.wordnet.ADJ\n",
    "    elif tag.startswith('V'):\n",
    "        return nltk.corpus.wordnet.VERB\n",
    "    elif tag.startswith('N'):\n",
    "        return nltk.corpus.wordnet.NOUN\n",
    "    elif tag.startswith('R'):\n",
    "        return nltk.corpus.wordnet.ADV\n",
    "    else:\n",
    "        return None\n",
    "\n",
    "combolem['lemmatized_text'] = combolem['title_and_selftext'].apply(lambda x: ' '.join([lemmatize_word(word) for word in x.split()]))\n",
    "\n",
    "#print(combolem)"
   ]
  },
  {
   "cell_type": "markdown",
   "id": "d59fe88c-a1cb-42ff-b809-114261ff1dff",
   "metadata": {},
   "source": [
    "***Lemmatized*** The text and set it to a new column to run models down the line if I needed to grab words that had any overlap. For example, dating is a word I am seeing variations of in the top words."
   ]
  },
  {
   "cell_type": "markdown",
   "id": "039fa0cc-406c-4566-971e-b9cde8f84ed2",
   "metadata": {},
   "source": [
    "## Stemming"
   ]
  },
  {
   "cell_type": "code",
   "execution_count": 24,
   "id": "a13f4b20-1f95-404a-8715-1d0af67c4524",
   "metadata": {},
   "outputs": [],
   "source": [
    "combostem = combo"
   ]
  },
  {
   "cell_type": "code",
   "execution_count": 25,
   "id": "53e2a2c8-e085-4d2a-9050-1518e8ea0160",
   "metadata": {
    "tags": []
   },
   "outputs": [],
   "source": [
    "def porter_stemmer_tokenize(text):\n",
    "    porter_stemmer = PorterStemmer()\n",
    "    return [porter_stemmer.stem(word) for word in text.split()]\n",
    "\n",
    "# Apply stemming to the 'text' column\n",
    "combostem['stemmed_text'] = combostem['title_and_selftext'].apply(lambda x: ' '.join(porter_stemmer_tokenize(x)))"
   ]
  },
  {
   "cell_type": "markdown",
   "id": "e4cbba78-4a39-4ebc-99f9-903a3ff97e58",
   "metadata": {},
   "source": [
    "***Stemming*** Same thing I did with the lemmatized section but probably won't use since it cut down my words too crudely to use. "
   ]
  },
  {
   "cell_type": "markdown",
   "id": "cce4c40f-9b78-47cf-888a-2942f67a9b13",
   "metadata": {},
   "source": [
    "## Running a Logistic Regression to Test Model Performance with No Stop Words."
   ]
  },
  {
   "cell_type": "code",
   "execution_count": 26,
   "id": "f4334024-2c35-43cb-8f3e-c8e5ed29439e",
   "metadata": {
    "tags": []
   },
   "outputs": [],
   "source": [
    "X = combo['title_and_selftext']\n",
    "\n",
    "y = combo['target']"
   ]
  },
  {
   "cell_type": "code",
   "execution_count": 27,
   "id": "fa7823d8-0ffa-4ebe-af8e-4eb3dacabb97",
   "metadata": {
    "tags": []
   },
   "outputs": [],
   "source": [
    "X_train, X_test, y_train, y_test = train_test_split(X,y,stratify=y,random_state=42)"
   ]
  },
  {
   "cell_type": "code",
   "execution_count": 28,
   "id": "2b959518-afdb-40cb-ab9e-4371bae64965",
   "metadata": {
    "tags": []
   },
   "outputs": [],
   "source": [
    "pipe = Pipeline([\n",
    "    ('cvec', CountVectorizer(stop_words = 'english')),\n",
    "    ('lr', LogisticRegression())\n",
    "])"
   ]
  },
  {
   "cell_type": "code",
   "execution_count": 29,
   "id": "ada70e6d-dc60-4793-b4d0-83f70e07edae",
   "metadata": {
    "tags": []
   },
   "outputs": [],
   "source": [
    "pipe_params = {\n",
    "    'cvec__max_features': [2000, 3000, 4000],\n",
    "    'cvec__min_df': [2, 4],\n",
    "    'cvec__max_df': [1.0, 0.8, 0.5],\n",
    "    'lr__penalty': ['l2', 'none']\n",
    "}"
   ]
  },
  {
   "cell_type": "code",
   "execution_count": 30,
   "id": "62cb7ff0-1287-4f17-b9a9-fa133b4beb48",
   "metadata": {
    "tags": []
   },
   "outputs": [
    {
     "name": "stdout",
     "output_type": "stream",
     "text": [
      "0.9919621749408984\n"
     ]
    },
    {
     "data": {
      "text/plain": [
       "{'cvec__max_df': 1.0,\n",
       " 'cvec__max_features': 4000,\n",
       " 'cvec__min_df': 2,\n",
       " 'lr__penalty': 'l2'}"
      ]
     },
     "execution_count": 30,
     "metadata": {},
     "output_type": "execute_result"
    }
   ],
   "source": [
    "gs = GridSearchCV(pipe,\n",
    "                 param_grid=pipe_params,\n",
    "                 n_jobs = -1)\n",
    "\n",
    "gs.fit(X_train, y_train)\n",
    "print(gs.best_score_) # through cross-val\n",
    "gs.best_params_"
   ]
  },
  {
   "cell_type": "code",
   "execution_count": 31,
   "id": "92292ac9-a4bb-47f7-927d-b649f577f60a",
   "metadata": {
    "tags": []
   },
   "outputs": [
    {
     "data": {
      "text/plain": [
       "4000"
      ]
     },
     "execution_count": 31,
     "metadata": {},
     "output_type": "execute_result"
    }
   ],
   "source": [
    "len(gs.best_estimator_.named_steps['lr'].coef_[0])"
   ]
  },
  {
   "cell_type": "markdown",
   "id": "ead29fa0-1db0-4273-82c8-faa47e7da806",
   "metadata": {},
   "source": [
    "***Evaluation*** The model just without stop words is operating too well with a best score of 99.2%. This means that there needs to be some extra cleaning since I am looking for a lower performing model, since my goal is to show overlap in whether someone is asking for culinary advice or dating advice."
   ]
  },
  {
   "cell_type": "markdown",
   "id": "c837ec3c-6b3f-4620-985e-c4e0630ae1f6",
   "metadata": {},
   "source": [
    "## Taking out some top words to see the difference in the model efficiency for problem statement and using bigrams."
   ]
  },
  {
   "cell_type": "code",
   "execution_count": 32,
   "id": "6c6d2a7d-63b2-408a-b416-93f25e28d0f2",
   "metadata": {
    "tags": []
   },
   "outputs": [
    {
     "name": "stdout",
     "output_type": "stream",
     "text": [
      "just            2985\n",
      "like            2983\n",
      "don             1763\n",
      "ve              1661\n",
      "know            1607\n",
      "time            1588\n",
      "want            1512\n",
      "really          1416\n",
      "dating          1227\n",
      "feel            1161\n",
      "date            1096\n",
      "make             989\n",
      "said             988\n",
      "think            975\n",
      "relationship     905\n",
      "dtype: int64\n"
     ]
    }
   ],
   "source": [
    "print(top_fifteen)"
   ]
  },
  {
   "cell_type": "code",
   "execution_count": 33,
   "id": "189f2591-5742-4dfe-87ff-775ede3c4bcb",
   "metadata": {
    "tags": []
   },
   "outputs": [
    {
     "name": "stdout",
     "output_type": "stream",
     "text": [
      "frozenset({'eight', 'put', 'whither', 'beside', 'con', 'sometime', 'here', 'becoming', 'onto', 'upon', 'empty', 'ourselves', 'after', 'hereupon', 'anything', 'bottom', 'nowhere', 'five', 'also', 'still', 'all', 'thereby', 'afterwards', 'an', 'as', 'before', 'thin', 'indeed', 'describe', 'see', 'alone', 'by', 'none', 'do', 'co', 'seems', 'what', 'sometimes', 'out', 'again', 'us', 'should', 'until', 'latter', 'with', 'back', 'no', 'in', 'almost', 'about', 'hers', 'were', 'something', 'is', 'already', 'moreover', 'herself', 'nothing', 'some', 'whence', 'everything', 'less', 'into', 'another', 'perhaps', 'formerly', 'mine', 'system', 'might', 'first', 'each', 'sincere', 'nevertheless', 'otherwise', 'anywhere', 'always', 'fire', 'themselves', 'your', 'they', 'which', 'you', 'myself', 'cry', 'and', 'becomes', 'any', 'may', 'move', 'whereafter', 'done', 'not', 'between', 'few', 'everywhere', 'seeming', 'down', 'must', 'thereupon', 'whatever', 'either', 'been', 'somewhere', 'that', 'whereupon', 'now', 'every', 'made', 'else', 'fill', 'at', 'off', 'four', 'seemed', 'be', 'often', 'amount', 'eg', 'name', 'on', 'under', 'whom', 'go', 'such', 'anyway', 'the', 'hereafter', 'she', 'twelve', 'though', 'give', 'to', 'much', 'namely', 'anyhow', 'their', 'top', 'keep', 'interest', 'its', 'wherever', 'most', 'his', 'am', 'ten', 'other', 'neither', 'forty', 'being', 'anyone', 'de', 'sixty', 'one', 'hence', 'herein', 'become', 'since', 'enough', 'get', 'those', 'behind', 'cannot', 'further', 'many', 'through', 'couldnt', 'fifteen', 'via', 'last', 'then', 'per', 'find', 'please', 'others', 'will', 'above', 'beyond', 'could', 'well', 're', 'or', 'front', 'very', 'wherein', 'both', 'i', 'therefore', 'whereby', 'we', 'whether', 'yourself', 'third', 'serious', 'except', 'yet', 'mostly', 'too', 'noone', 'therein', 'he', 'only', 'cant', 'whole', 'throughout', 'me', 'thereafter', 'where', 'inc', 'found', 'during', 'can', 'has', 'whenever', 'thence', 'due', 'elsewhere', 'take', 'there', 'several', 'same', 'yourselves', 'show', 'once', 'this', 'a', 'beforehand', 'up', 'although', 'ltd', 'who', 'itself', 'thick', 'while', 'twenty', 'across', 'part', 'never', 'if', 'towards', 'latterly', 'him', 'call', 'it', 'became', 'would', 'former', 'because', 'seem', 'hereby', 'amongst', 'nor', 'are', 'eleven', 'bill', 'against', 'somehow', 'these', 'my', 'etc', 'within', 'when', 'ever', 'had', 'how', 'un', 'have', 'six', 'fifty', 'so', 'below', 'rather', 'meanwhile', 'full', 'hasnt', 'of', 'two', 'than', 'toward', 'around', 'whereas', 'but', 'hundred', 'ie', 'our', 'over', 'whoever', 'yours', 'mill', 'someone', 'own', 'along', 'least', 'from', 'nine', 'thus', 'however', 'even', 'side', 'ours', 'detail', 'nobody', 'everyone', 'amoungst', 'for', 'together', 'next', 'without', 'was', 'besides', 'more', 'himself', 'whose', 'her', 'among', 'thru', 'them', 'why', 'three'})\n"
     ]
    }
   ],
   "source": [
    "print(CountVectorizer(stop_words = 'english').get_stop_words())"
   ]
  },
  {
   "cell_type": "code",
   "execution_count": 34,
   "id": "15b46e61-1246-41ae-8a38-fe1a45e7d1bb",
   "metadata": {
    "tags": []
   },
   "outputs": [],
   "source": [
    "project = ['however', 'please', 'beside', 'there', 'wherein', 'your', 'whence', 'eleven', 'done', 'anyone', 'nowhere', 'around', 'none', 'thin', 'before', 'any', 'must', 'their', 'those', 'toward', 'third', 'keep', 'via', 'latterly', 'them', 'every', 'hundred', 'that', 'others', 'inc', 'hereupon', 'former', 'couldnt', 'front', 'several', 'without', 'me', 'show', 'take', 'again', 'not', 'its', 'is', 'six', 'mine', 'detail', 'describe', 'all', 'alone', 'if', 'neither', 'are', 'few', 'over', 'therefore', 'next', 'still', 'behind', 'rather', 'became', 'moreover', 'no', 'find', 'along', 'thru', 'becomes', 'anything', 'beforehand', 'within', 'out', 'of', 'where', 'than', 'together', 'thick', 'forty', 'whether', 'ie', 'name', 'can', 'mill', 'side', 'three', 're', 'the', 'five', 'mostly', 'thus', 'call', 'upon', 'de', 'and', 'this', 'in', 'under', 'by', 'noone', 'itself', 'she', 'nor', 'whither', 'top', 'thence', 'becoming', 'off', 'four', 'due', 'cant', 'hers', 'then', 'nine', 'will', 'whereas', 'nevertheless', 'eg', 'otherwise', 'through', 'thereby', 'since', 'sixty', 'seeming', 'either', 'always', 'throughout', 'his', 'get', 'down', 'sincere', 'been', 'i', 'un', 'myself', 'back', 'why', 'between', 'almost', 'bottom', 'see', 'which', 'anyhow', 'even', 'etc', 'himself', 'wherever', 'fire', 'twenty', 'ourselves', 'ltd', 'namely', 'seemed', 'although', 'co', 'on', 'bill', 'sometimes', 'eight', 'whose', 'yours', 'among', 'except', 'may', 'or', 'seem', 'onto', 'amongst', 'sometime', 'per', 'might', 'nobody', 'towards', 'an', 'yet', 'has', 'last', 'become', 'perhaps', 'such', 'how', 'these', 'whom', 'well', 'somehow', 'we', 'hereafter', 'whole', 'from', 'else', 'were', 'into', 'more', 'only', 'thereupon', 'empty', 'each', 'you', 'much', 'her', 'give', 'least', 'latter', 'him', 'con', 'for', 'yourselves', 'with', 'both', 'part', 'very', 'never', 'interest', 'above', 'here', 'below', 'go', 'amount', 'they', 'he', 'should', 'everywhere', 'also', 'fifteen', 'be', 'up', 'too', 'besides', 'elsewhere', 'already', 'first', 'somewhere', 'whereafter', 'whatever', 'beyond', 'less', 'hence', 'whereby', 'had', 'cry', 'many', 'a', 'ever', 'could', 'ours', 'whenever', 'at', 'during', 'so', 'everyone', 'hasnt', 'further', 'system', 'what', 'across', 'being', 'someone', 'until', 'now', 'am', 'put', 'was', 'fill', 'indeed', 'would', 'but', 'do', 'one', 'same', 'anywhere', 'it', 'serious', 'something', 'while', 'therein', 'meanwhile', 'afterwards', 'everything', 'my', 'often', 'found', 'other', 'nothing', 'two', 'about', 'ten', 'who', 'fifty', 'themselves', 'thereafter', 'after', 'own', 'once', 'enough', 'seems', 'cannot', 'hereby', 'herself', 'our', 'when', 'to', 'formerly', 'herein', 'some', 'though', 'move', 'another', 'because', 'us', 'whoever', 'as', 'twelve', 'most', 'yourself', 'against', 'have', 'amoungst', 'full', 'made', 'whereupon', 'anyway','ve', 'dating', 'date', 'relationship', 'don', 'guy', 'girl','recipe','chicken', 'water', 'sauce', 'cook', 'social', 'media', 'year', 'years', 'months', 'distance', 'sex', 'friend', 'month', 'talk', 'say', 'flag']"
   ]
  },
  {
   "cell_type": "code",
   "execution_count": 35,
   "id": "a705ebd1-c07e-40ec-a32e-aee38b492aee",
   "metadata": {
    "tags": []
   },
   "outputs": [
    {
     "name": "stdout",
     "output_type": "stream",
     "text": [
      "CountVectorizer(stop_words=['however', 'please', 'beside', 'there', 'wherein',\n",
      "                            'your', 'whence', 'eleven', 'done', 'anyone',\n",
      "                            'nowhere', 'around', 'none', 'thin', 'before',\n",
      "                            'any', 'must', 'their', 'those', 'toward', 'third',\n",
      "                            'keep', 'via', 'latterly', 'them', 'every',\n",
      "                            'hundred', 'that', 'others', 'inc', ...])\n"
     ]
    }
   ],
   "source": [
    "#Added words like don, ve, dating, date, relationship, guy, girl, recipe, chicken, water, sauce, cook, social, media, year, years, months, distance, sex, friend, month, talk, say, flag.  \n",
    "print(CountVectorizer(stop_words = project))"
   ]
  },
  {
   "cell_type": "markdown",
   "id": "566c4ce7-1808-455d-ba7b-28f0c867d5f8",
   "metadata": {},
   "source": [
    "## Second Logistic Regression but Using the Lemmatized Text and Bigrams."
   ]
  },
  {
   "cell_type": "code",
   "execution_count": 36,
   "id": "b4f377eb-424d-4a17-abf1-0d9016d811bb",
   "metadata": {},
   "outputs": [],
   "source": [
    "X = combo['lemmatized_text']\n",
    "y = combo['target']"
   ]
  },
  {
   "cell_type": "code",
   "execution_count": 37,
   "id": "3434d213-04b2-490d-966b-436af0c2e9f4",
   "metadata": {
    "tags": []
   },
   "outputs": [],
   "source": [
    "X_train, X_test, y_train, y_test = train_test_split(X,y,stratify=y,random_state=42)"
   ]
  },
  {
   "cell_type": "code",
   "execution_count": 38,
   "id": "981e83f7-ff4d-45ce-bd2e-9dde399707c5",
   "metadata": {
    "tags": []
   },
   "outputs": [],
   "source": [
    "cvec = CountVectorizer(ngram_range=(2, 2), stop_words = project)\n",
    "\n",
    "cvec.fit(X_train)\n",
    "\n",
    "ntrain = cvec.transform(X_train)"
   ]
  },
  {
   "cell_type": "code",
   "execution_count": 39,
   "id": "343b87bd-e2d5-4507-835c-a2179d929c0b",
   "metadata": {
    "tags": []
   },
   "outputs": [],
   "source": [
    "ntest = cvec.transform(X_test)"
   ]
  },
  {
   "cell_type": "code",
   "execution_count": 40,
   "id": "2c783321-65b6-4069-917d-497bf2c4653d",
   "metadata": {
    "tags": []
   },
   "outputs": [],
   "source": [
    "statdf = pd.DataFrame(ntrain.todense(),\n",
    "                     columns = cvec.get_feature_names_out())"
   ]
  },
  {
   "cell_type": "code",
   "execution_count": 94,
   "id": "999ff5d3-8a7e-4ccc-8eac-94110a4dbb22",
   "metadata": {
    "tags": []
   },
   "outputs": [
    {
     "data": {
      "image/png": "[encoded data removed]",
      "text/plain": [
       "<Figure size 640x480 with 1 Axes>"
      ]
     },
     "metadata": {},
     "output_type": "display_data"
    },
    {
     "data": {
      "text/plain": [
       "<Figure size 640x480 with 0 Axes>"
      ]
     },
     "metadata": {},
     "output_type": "display_data"
    }
   ],
   "source": [
    "word_counts = statdf.sum()\n",
    "\n",
    "top_fifteen = word_counts.sort_values(ascending = False).head(30)\n",
    "\n",
    "top_fifteen = top_fifteen[::-1]\n",
    "top_fifteen.plot(kind = 'barh', color = 'blue', edgecolor = 'black')\n",
    "plt.title('Top 30 Bigrams')\n",
    "plt.xlabel('Bigrams')\n",
    "plt.ylabel('Frequency')\n",
    "plt.tight_layout()\n",
    "plt.show()\n",
    "\n",
    "plt.savefig('./images/bigrams.png', bbox_inches = 'tight')"
   ]
  },
  {
   "cell_type": "code",
   "execution_count": 42,
   "id": "9c9239ee-eb72-416b-afb0-5a3a9ec367f6",
   "metadata": {
    "scrolled": true,
    "tags": []
   },
   "outputs": [
    {
     "data": {
      "text/html": [
       "<style>#sk-container-id-2 {color: black;background-color: white;}#sk-container-id-2 pre{padding: 0;}#sk-container-id-2 div.sk-toggleable {background-color: white;}#sk-container-id-2 label.sk-toggleable__label {cursor: pointer;display: block;width: 100%;margin-bottom: 0;padding: 0.3em;box-sizing: border-box;text-align: center;}#sk-container-id-2 label.sk-toggleable__label-arrow:before {content: \"▸\";float: left;margin-right: 0.25em;color: #696969;}#sk-container-id-2 label.sk-toggleable__label-arrow:hover:before {color: black;}#sk-container-id-2 div.sk-estimator:hover label.sk-toggleable__label-arrow:before {color: black;}#sk-container-id-2 div.sk-toggleable__content {max-height: 0;max-width: 0;overflow: hidden;text-align: left;background-color: #f0f8ff;}#sk-container-id-2 div.sk-toggleable__content pre {margin: 0.2em;color: black;border-radius: 0.25em;background-color: #f0f8ff;}#sk-container-id-2 input.sk-toggleable__control:checked~div.sk-toggleable__content {max-height: 200px;max-width: 100%;overflow: auto;}#sk-container-id-2 input.sk-toggleable__control:checked~label.sk-toggleable__label-arrow:before {content: \"▾\";}#sk-container-id-2 div.sk-estimator input.sk-toggleable__control:checked~label.sk-toggleable__label {background-color: #d4ebff;}#sk-container-id-2 div.sk-label input.sk-toggleable__control:checked~label.sk-toggleable__label {background-color: #d4ebff;}#sk-container-id-2 input.sk-hidden--visually {border: 0;clip: rect(1px 1px 1px 1px);clip: rect(1px, 1px, 1px, 1px);height: 1px;margin: -1px;overflow: hidden;padding: 0;position: absolute;width: 1px;}#sk-container-id-2 div.sk-estimator {font-family: monospace;background-color: #f0f8ff;border: 1px dotted black;border-radius: 0.25em;box-sizing: border-box;margin-bottom: 0.5em;}#sk-container-id-2 div.sk-estimator:hover {background-color: #d4ebff;}#sk-container-id-2 div.sk-parallel-item::after {content: \"\";width: 100%;border-bottom: 1px solid gray;flex-grow: 1;}#sk-container-id-2 div.sk-label:hover label.sk-toggleable__label {background-color: #d4ebff;}#sk-container-id-2 div.sk-serial::before {content: \"\";position: absolute;border-left: 1px solid gray;box-sizing: border-box;top: 0;bottom: 0;left: 50%;z-index: 0;}#sk-container-id-2 div.sk-serial {display: flex;flex-direction: column;align-items: center;background-color: white;padding-right: 0.2em;padding-left: 0.2em;position: relative;}#sk-container-id-2 div.sk-item {position: relative;z-index: 1;}#sk-container-id-2 div.sk-parallel {display: flex;align-items: stretch;justify-content: center;background-color: white;position: relative;}#sk-container-id-2 div.sk-item::before, #sk-container-id-2 div.sk-parallel-item::before {content: \"\";position: absolute;border-left: 1px solid gray;box-sizing: border-box;top: 0;bottom: 0;left: 50%;z-index: -1;}#sk-container-id-2 div.sk-parallel-item {display: flex;flex-direction: column;z-index: 1;position: relative;background-color: white;}#sk-container-id-2 div.sk-parallel-item:first-child::after {align-self: flex-end;width: 50%;}#sk-container-id-2 div.sk-parallel-item:last-child::after {align-self: flex-start;width: 50%;}#sk-container-id-2 div.sk-parallel-item:only-child::after {width: 0;}#sk-container-id-2 div.sk-dashed-wrapped {border: 1px dashed gray;margin: 0 0.4em 0.5em 0.4em;box-sizing: border-box;padding-bottom: 0.4em;background-color: white;}#sk-container-id-2 div.sk-label label {font-family: monospace;font-weight: bold;display: inline-block;line-height: 1.2em;}#sk-container-id-2 div.sk-label-container {text-align: center;}#sk-container-id-2 div.sk-container {/* jupyter's `normalize.less` sets `[hidden] { display: none; }` but bootstrap.min.css set `[hidden] { display: none !important; }` so we also need the `!important` here to be able to override the default hidden behavior on the sphinx rendered scikit-learn.org. See: https://github.com/scikit-learn/scikit-learn/issues/21755 */display: inline-block !important;position: relative;}#sk-container-id-2 div.sk-text-repr-fallback {display: none;}</style><div id=\"sk-container-id-2\" class=\"sk-top-container\"><div class=\"sk-text-repr-fallback\"><pre>Pipeline(steps=[(&#x27;cvec&#x27;, CountVectorizer(stop_words=&#x27;english&#x27;)),\n",
       "                (&#x27;lr&#x27;, LogisticRegression())])</pre><b>In a Jupyter environment, please rerun this cell to show the HTML representation or trust the notebook. <br />On GitHub, the HTML representation is unable to render, please try loading this page with nbviewer.org.</b></div><div class=\"sk-container\" hidden><div class=\"sk-item sk-dashed-wrapped\"><div class=\"sk-label-container\"><div class=\"sk-label sk-toggleable\"><input class=\"sk-toggleable__control sk-hidden--visually\" id=\"sk-estimator-id-2\" type=\"checkbox\" ><label for=\"sk-estimator-id-2\" class=\"sk-toggleable__label sk-toggleable__label-arrow\">Pipeline</label><div class=\"sk-toggleable__content\"><pre>Pipeline(steps=[(&#x27;cvec&#x27;, CountVectorizer(stop_words=&#x27;english&#x27;)),\n",
       "                (&#x27;lr&#x27;, LogisticRegression())])</pre></div></div></div><div class=\"sk-serial\"><div class=\"sk-item\"><div class=\"sk-estimator sk-toggleable\"><input class=\"sk-toggleable__control sk-hidden--visually\" id=\"sk-estimator-id-3\" type=\"checkbox\" ><label for=\"sk-estimator-id-3\" class=\"sk-toggleable__label sk-toggleable__label-arrow\">CountVectorizer</label><div class=\"sk-toggleable__content\"><pre>CountVectorizer(stop_words=&#x27;english&#x27;)</pre></div></div></div><div class=\"sk-item\"><div class=\"sk-estimator sk-toggleable\"><input class=\"sk-toggleable__control sk-hidden--visually\" id=\"sk-estimator-id-4\" type=\"checkbox\" ><label for=\"sk-estimator-id-4\" class=\"sk-toggleable__label sk-toggleable__label-arrow\">LogisticRegression</label><div class=\"sk-toggleable__content\"><pre>LogisticRegression()</pre></div></div></div></div></div></div></div>"
      ],
      "text/plain": [
       "Pipeline(steps=[('cvec', CountVectorizer(stop_words='english')),\n",
       "                ('lr', LogisticRegression())])"
      ]
     },
     "execution_count": 42,
     "metadata": {},
     "output_type": "execute_result"
    }
   ],
   "source": [
    "pipe.fit(X_train, y_train)"
   ]
  },
  {
   "cell_type": "code",
   "execution_count": 43,
   "id": "6ce1f8cf-14b0-4aad-96e4-bf70c20fd77a",
   "metadata": {
    "scrolled": true,
    "tags": []
   },
   "outputs": [],
   "source": [
    "pipe = Pipeline([\n",
    "    ('cvec', CountVectorizer(ngram_range=(2, 2), stop_words = project)),\n",
    "    ('lr', LogisticRegression())\n",
    "])"
   ]
  },
  {
   "cell_type": "code",
   "execution_count": 44,
   "id": "0d9e9005-812b-4b24-a10d-e0e1e2b41c2a",
   "metadata": {
    "tags": []
   },
   "outputs": [],
   "source": [
    "pipe_params = {\n",
    "    'cvec__max_features': [2000, 3000, 4000],\n",
    "    'cvec__min_df': [2, 4],\n",
    "    'cvec__max_df': [1.0, 0.8, 0.5],\n",
    "    'lr__penalty': ['l2', None]\n",
    "}"
   ]
  },
  {
   "cell_type": "code",
   "execution_count": 45,
   "id": "4d3afdd0-3453-4633-8e86-9d9e202f8079",
   "metadata": {
    "scrolled": true,
    "tags": []
   },
   "outputs": [
    {
     "name": "stdout",
     "output_type": "stream",
     "text": [
      "0.88274231678487\n"
     ]
    },
    {
     "data": {
      "text/plain": [
       "{'cvec__max_df': 1.0,\n",
       " 'cvec__max_features': 4000,\n",
       " 'cvec__min_df': 2,\n",
       " 'lr__penalty': 'l2'}"
      ]
     },
     "execution_count": 45,
     "metadata": {},
     "output_type": "execute_result"
    }
   ],
   "source": [
    "gs = GridSearchCV(pipe,\n",
    "                 param_grid=pipe_params,\n",
    "                 n_jobs = -1)\n",
    "\n",
    "gs.fit(X_train, y_train)\n",
    "print(gs.best_score_) # through cross-val\n",
    "gs.best_params_"
   ]
  },
  {
   "cell_type": "code",
   "execution_count": 46,
   "id": "3ddc8b69-df12-4502-86bc-f276f59f5c10",
   "metadata": {
    "scrolled": true,
    "tags": []
   },
   "outputs": [
    {
     "name": "stdout",
     "output_type": "stream",
     "text": [
      "0.9777777777777777\n",
      "0.8950354609929078\n"
     ]
    }
   ],
   "source": [
    "print(gs.score(X_train, y_train))\n",
    "\n",
    "print(gs.score(X_test, y_test))"
   ]
  },
  {
   "cell_type": "markdown",
   "id": "99584520-5208-43c3-854b-22050a8e07d3",
   "metadata": {},
   "source": [
    "***Score Evaluations***\n",
    "+ The model is performing better towards my problem statement. \n",
    "+ Cross val best score = 88.3%\n",
    "+ Train GridSearch Score = 97.8%\n",
    "+ Test GridSearch Score = 89.5%\n",
    "+ Overfit model but it is working quite well."
   ]
  },
  {
   "cell_type": "markdown",
   "id": "71b2265a-e3a6-414e-8983-c32c93fed04e",
   "metadata": {},
   "source": [
    "## Model Evaluation"
   ]
  },
  {
   "cell_type": "code",
   "execution_count": 47,
   "id": "a141ccca-870a-4a07-be7b-065cd80c8292",
   "metadata": {
    "scrolled": true,
    "tags": []
   },
   "outputs": [],
   "source": [
    "pred = gs.predict(X_test)"
   ]
  },
  {
   "cell_type": "code",
   "execution_count": 48,
   "id": "37f25f7a-ddc3-4aef-8068-8ee67591f3ae",
   "metadata": {
    "tags": []
   },
   "outputs": [
    {
     "name": "stdout",
     "output_type": "stream",
     "text": [
      "0.9777777777777777\n",
      "0.8950354609929078\n"
     ]
    }
   ],
   "source": [
    "# Accuracy Rate\n",
    "print(gs.score(X_train, y_train))\n",
    "print(gs.score(X_test, y_test))"
   ]
  },
  {
   "cell_type": "code",
   "execution_count": 49,
   "id": "e3cc519a-1b11-4117-8c0b-e57c272604fe",
   "metadata": {
    "tags": []
   },
   "outputs": [
    {
     "name": "stdout",
     "output_type": "stream",
     "text": [
      "0.022222222222222254\n",
      "0.10496453900709224\n"
     ]
    }
   ],
   "source": [
    "# Misclassification Rate\n",
    "print(1 - gs.score(X_train, y_train))\n",
    "print(1 - gs.score(X_test, y_test))"
   ]
  },
  {
   "cell_type": "code",
   "execution_count": 50,
   "id": "6386c100-bfe6-4846-86d2-56841eb6157b",
   "metadata": {
    "tags": []
   },
   "outputs": [],
   "source": [
    "tn, fp, fn, tp = confusion_matrix(y_test, pred).ravel()"
   ]
  },
  {
   "cell_type": "code",
   "execution_count": 51,
   "id": "89fd3baa-1659-4fdf-b8ab-92d7ceef82eb",
   "metadata": {
    "tags": []
   },
   "outputs": [
    {
     "name": "stdout",
     "output_type": "stream",
     "text": [
      "Specificity: 0.9128787878787878\n"
     ]
    }
   ],
   "source": [
    "#Specificity\n",
    "spec = tn / (tn + fp)\n",
    "\n",
    "print(f'Specificity: {spec}')"
   ]
  },
  {
   "cell_type": "code",
   "execution_count": 52,
   "id": "15279c73-d111-47da-9c54-23325e1be02f",
   "metadata": {
    "tags": []
   },
   "outputs": [
    {
     "name": "stdout",
     "output_type": "stream",
     "text": [
      "Recall: 0.8843537414965986\n"
     ]
    }
   ],
   "source": [
    "#Recall\n",
    "recall = tp / (tp + fn)\n",
    "\n",
    "if recall == 1.0:\n",
    "    print(\"We have Total Recall\")\n",
    "else:\n",
    "    print(f'Recall: {recall}')"
   ]
  },
  {
   "cell_type": "code",
   "execution_count": 53,
   "id": "48252537-3449-4bbb-9745-05f353dd85d7",
   "metadata": {
    "tags": []
   },
   "outputs": [
    {
     "data": {
      "image/png": "[encoded data removed]",
      "text/plain": [
       "<Figure size 640x480 with 2 Axes>"
      ]
     },
     "metadata": {},
     "output_type": "display_data"
    }
   ],
   "source": [
    "ConfusionMatrixDisplay.from_estimator(gs, X_test, y_test);"
   ]
  },
  {
   "cell_type": "markdown",
   "id": "b63abc85-f4aa-4181-ba5e-7d18129044e0",
   "metadata": {},
   "source": [
    "***Findings***\n",
    "+ Train = 97.8%\n",
    "+ Test = 89.5%\n",
    "+ Missclassification Rate = Train - 2.2% Test - 10.5%\n",
    "+ Specificity = 91.3%\n",
    "+ Recall = 88.4%"
   ]
  },
  {
   "cell_type": "markdown",
   "id": "7358cc07-e6d5-4bd4-aeb1-527b20e9c527",
   "metadata": {},
   "source": [
    "## Model 2 KNN to See How Other Models Will Perform"
   ]
  },
  {
   "cell_type": "code",
   "execution_count": 54,
   "id": "dc6097f5-6839-457b-bda8-12e2f10b8c13",
   "metadata": {
    "tags": []
   },
   "outputs": [
    {
     "name": "stdout",
     "output_type": "stream",
     "text": [
      "0.7966903073286052\n",
      "{'knn__n_neighbors': 9, 'tf__max_df': 1.0, 'tf__max_features': 4000, 'tf__min_df': 3, 'tf__stop_words': None}\n"
     ]
    }
   ],
   "source": [
    "pipe_knn = Pipeline([\n",
    "    ('tf', TfidfVectorizer(ngram_range=(2, 2), stop_words = project)),\n",
    "    ('knn', KNeighborsClassifier())\n",
    "])\n",
    "\n",
    "pipe_knn_params = {\n",
    "    'tf__stop_words': [None, 'english'],\n",
    "    'tf__max_features': [2000, 3000, 4000],\n",
    "    'tf__min_df': [2, 3, 4],\n",
    "    'tf__max_df': [1.0, 0.95, 0.9],\n",
    "    'knn__n_neighbors': range(3, 10, 2)\n",
    "}\n",
    "\n",
    "gs_knn = GridSearchCV(pipe_knn,\n",
    "                     param_grid=pipe_knn_params,\n",
    "                     n_jobs = -1)\n",
    "\n",
    "gs_knn.fit(X_train, y_train)\n",
    "print(gs_knn.best_score_)\n",
    "print(gs_knn.best_params_)"
   ]
  },
  {
   "cell_type": "code",
   "execution_count": 55,
   "id": "2bf1ef2e-ecc2-4a7f-a5eb-daef291201db",
   "metadata": {
    "scrolled": true,
    "tags": []
   },
   "outputs": [
    {
     "name": "stdout",
     "output_type": "stream",
     "text": [
      "0.9981087470449173\n",
      "0.6368794326241135\n"
     ]
    }
   ],
   "source": [
    "print(gs_knn.score(X_train, y_train))\n",
    "print(gs_knn.score(X_test, y_test))"
   ]
  },
  {
   "cell_type": "markdown",
   "id": "ea689bf9-7857-44af-b73f-9d0034453996",
   "metadata": {},
   "source": [
    "***Findings***\n",
    "\n",
    "+ KNN Best score = 79.7%\n",
    "+ Train = 99.8%\n",
    "+ Test = 63.7%\n",
    "+ Probably won't want to use this since the KNN testing model did not perform well on the testing data so it would make it very hard to predict my model with the also stance of overfitting. "
   ]
  },
  {
   "cell_type": "markdown",
   "id": "c24f93a6-1446-405d-9bea-fef9be543ed5",
   "metadata": {},
   "source": [
    "# Model 3 - CART = Classification and Regression Trees"
   ]
  },
  {
   "cell_type": "code",
   "execution_count": 56,
   "id": "23d91a8f-0823-4c93-91f9-da0ba94a327a",
   "metadata": {
    "tags": []
   },
   "outputs": [],
   "source": [
    "# Define Gini function, called gini.\n",
    "def gini(obs):\n",
    "    # create a list of to score my square probabilities\n",
    "    gini_sum = []\n",
    "    \n",
    "    for class_i in set(obs):\n",
    "        # calc observed probability of class_i\n",
    "        prob  = (obs.count(class_i) / len(obs))\n",
    "        \n",
    "        # square the probability and append it to gini_sum\n",
    "        gini_sum.append(prob**2)\n",
    "        \n",
    "    # return our gini impurity\n",
    "    return 1 - sum(gini_sum)"
   ]
  },
  {
   "cell_type": "code",
   "execution_count": 57,
   "id": "6cea1e32-98e7-4f9d-b064-13c975c6a6f9",
   "metadata": {
    "tags": []
   },
   "outputs": [
    {
     "data": {
      "text/plain": [
       "0.46848347668628343"
      ]
     },
     "execution_count": 57,
     "metadata": {},
     "output_type": "execute_result"
    }
   ],
   "source": [
    "y = list(combo['target'])\n",
    "\n",
    "gini(y)"
   ]
  },
  {
   "cell_type": "code",
   "execution_count": 58,
   "id": "391d18d9-a90c-4071-9259-ac4b073ff969",
   "metadata": {
    "tags": []
   },
   "outputs": [
    {
     "data": {
      "image/png": "[encoded data removed]",
      "text/plain": [
       "<Figure size 1200x800 with 1 Axes>"
      ]
     },
     "metadata": {},
     "output_type": "display_data"
    }
   ],
   "source": [
    "# Set figure size.\n",
    "plt.figure(figsize = (12,8))\n",
    "\n",
    "# # Generate x values (for percentage of obs. in class A).\n",
    "percent_in_class_A = np.linspace(0, 1, 200)\n",
    "percent_in_class_B = 1 - percent_in_class_A\n",
    "\n",
    "# # Calculate Gini values.\n",
    "gini_values = 1 - np.square(percent_in_class_A) - np.square(percent_in_class_B)\n",
    "\n",
    "# # Plot line.\n",
    "plt.plot(percent_in_class_A,\n",
    "          gini_values)\n",
    "\n",
    "# # Establish title, axes, and labels.\n",
    "plt.title('Gini Score in Binary Classification', fontsize = 24)\n",
    "plt.xlabel('Percent of Observation in Class A', fontsize = 20)\n",
    "plt.ylabel('Gini Score', fontsize = 20, rotation = 0, ha = 'right')\n",
    "plt.xticks(fontsize = 18)\n",
    "plt.yticks(fontsize = 18);"
   ]
  },
  {
   "cell_type": "markdown",
   "id": "ac0b78ad-43b7-43c6-bbd8-b202e742348b",
   "metadata": {},
   "source": [
    "***Interpretation***\n",
    "\n",
    "We have a 46.7% chance to missclassify our model. This mean we have a 53.3% chance to predict correctly and will also serve as out baseline. "
   ]
  },
  {
   "cell_type": "markdown",
   "id": "015232bc-8954-49df-97b7-996f93fbe5a8",
   "metadata": {},
   "source": [
    "***Decision Tree Classifier***"
   ]
  },
  {
   "cell_type": "code",
   "execution_count": 59,
   "id": "e44d56c3-bcea-4e3e-a677-7b498215f562",
   "metadata": {
    "tags": []
   },
   "outputs": [],
   "source": [
    "dt = DecisionTreeClassifier(random_state = 42)"
   ]
  },
  {
   "cell_type": "code",
   "execution_count": 60,
   "id": "e8aba1f8-664e-43bd-bae2-36467d69f7f4",
   "metadata": {
    "tags": []
   },
   "outputs": [
    {
     "data": {
      "text/html": [
       "<style>#sk-container-id-3 {color: black;background-color: white;}#sk-container-id-3 pre{padding: 0;}#sk-container-id-3 div.sk-toggleable {background-color: white;}#sk-container-id-3 label.sk-toggleable__label {cursor: pointer;display: block;width: 100%;margin-bottom: 0;padding: 0.3em;box-sizing: border-box;text-align: center;}#sk-container-id-3 label.sk-toggleable__label-arrow:before {content: \"▸\";float: left;margin-right: 0.25em;color: #696969;}#sk-container-id-3 label.sk-toggleable__label-arrow:hover:before {color: black;}#sk-container-id-3 div.sk-estimator:hover label.sk-toggleable__label-arrow:before {color: black;}#sk-container-id-3 div.sk-toggleable__content {max-height: 0;max-width: 0;overflow: hidden;text-align: left;background-color: #f0f8ff;}#sk-container-id-3 div.sk-toggleable__content pre {margin: 0.2em;color: black;border-radius: 0.25em;background-color: #f0f8ff;}#sk-container-id-3 input.sk-toggleable__control:checked~div.sk-toggleable__content {max-height: 200px;max-width: 100%;overflow: auto;}#sk-container-id-3 input.sk-toggleable__control:checked~label.sk-toggleable__label-arrow:before {content: \"▾\";}#sk-container-id-3 div.sk-estimator input.sk-toggleable__control:checked~label.sk-toggleable__label {background-color: #d4ebff;}#sk-container-id-3 div.sk-label input.sk-toggleable__control:checked~label.sk-toggleable__label {background-color: #d4ebff;}#sk-container-id-3 input.sk-hidden--visually {border: 0;clip: rect(1px 1px 1px 1px);clip: rect(1px, 1px, 1px, 1px);height: 1px;margin: -1px;overflow: hidden;padding: 0;position: absolute;width: 1px;}#sk-container-id-3 div.sk-estimator {font-family: monospace;background-color: #f0f8ff;border: 1px dotted black;border-radius: 0.25em;box-sizing: border-box;margin-bottom: 0.5em;}#sk-container-id-3 div.sk-estimator:hover {background-color: #d4ebff;}#sk-container-id-3 div.sk-parallel-item::after {content: \"\";width: 100%;border-bottom: 1px solid gray;flex-grow: 1;}#sk-container-id-3 div.sk-label:hover label.sk-toggleable__label {background-color: #d4ebff;}#sk-container-id-3 div.sk-serial::before {content: \"\";position: absolute;border-left: 1px solid gray;box-sizing: border-box;top: 0;bottom: 0;left: 50%;z-index: 0;}#sk-container-id-3 div.sk-serial {display: flex;flex-direction: column;align-items: center;background-color: white;padding-right: 0.2em;padding-left: 0.2em;position: relative;}#sk-container-id-3 div.sk-item {position: relative;z-index: 1;}#sk-container-id-3 div.sk-parallel {display: flex;align-items: stretch;justify-content: center;background-color: white;position: relative;}#sk-container-id-3 div.sk-item::before, #sk-container-id-3 div.sk-parallel-item::before {content: \"\";position: absolute;border-left: 1px solid gray;box-sizing: border-box;top: 0;bottom: 0;left: 50%;z-index: -1;}#sk-container-id-3 div.sk-parallel-item {display: flex;flex-direction: column;z-index: 1;position: relative;background-color: white;}#sk-container-id-3 div.sk-parallel-item:first-child::after {align-self: flex-end;width: 50%;}#sk-container-id-3 div.sk-parallel-item:last-child::after {align-self: flex-start;width: 50%;}#sk-container-id-3 div.sk-parallel-item:only-child::after {width: 0;}#sk-container-id-3 div.sk-dashed-wrapped {border: 1px dashed gray;margin: 0 0.4em 0.5em 0.4em;box-sizing: border-box;padding-bottom: 0.4em;background-color: white;}#sk-container-id-3 div.sk-label label {font-family: monospace;font-weight: bold;display: inline-block;line-height: 1.2em;}#sk-container-id-3 div.sk-label-container {text-align: center;}#sk-container-id-3 div.sk-container {/* jupyter's `normalize.less` sets `[hidden] { display: none; }` but bootstrap.min.css set `[hidden] { display: none !important; }` so we also need the `!important` here to be able to override the default hidden behavior on the sphinx rendered scikit-learn.org. See: https://github.com/scikit-learn/scikit-learn/issues/21755 */display: inline-block !important;position: relative;}#sk-container-id-3 div.sk-text-repr-fallback {display: none;}</style><div id=\"sk-container-id-3\" class=\"sk-top-container\"><div class=\"sk-text-repr-fallback\"><pre>DecisionTreeClassifier(random_state=42)</pre><b>In a Jupyter environment, please rerun this cell to show the HTML representation or trust the notebook. <br />On GitHub, the HTML representation is unable to render, please try loading this page with nbviewer.org.</b></div><div class=\"sk-container\" hidden><div class=\"sk-item\"><div class=\"sk-estimator sk-toggleable\"><input class=\"sk-toggleable__control sk-hidden--visually\" id=\"sk-estimator-id-5\" type=\"checkbox\" checked><label for=\"sk-estimator-id-5\" class=\"sk-toggleable__label sk-toggleable__label-arrow\">DecisionTreeClassifier</label><div class=\"sk-toggleable__content\"><pre>DecisionTreeClassifier(random_state=42)</pre></div></div></div></div></div>"
      ],
      "text/plain": [
       "DecisionTreeClassifier(random_state=42)"
      ]
     },
     "execution_count": 60,
     "metadata": {},
     "output_type": "execute_result"
    }
   ],
   "source": [
    "dt.fit(ntrain, y_train)"
   ]
  },
  {
   "cell_type": "code",
   "execution_count": 61,
   "id": "ae9ee968-7a4f-47f1-89cc-78efe3a491d7",
   "metadata": {
    "tags": []
   },
   "outputs": [
    {
     "name": "stdout",
     "output_type": "stream",
     "text": [
      "Score on training set: 1.0\n",
      "Score on testing set: 0.7446808510638298\n"
     ]
    }
   ],
   "source": [
    "print(f'Score on training set: {dt.score(ntrain, y_train)}')\n",
    "print(f'Score on testing set: {dt.score(ntest, y_test)}')"
   ]
  },
  {
   "cell_type": "markdown",
   "id": "3dd59661-9323-41b0-a3fb-9238c0c3682f",
   "metadata": {},
   "source": [
    "***Trying the decision tree with hyperparameters***"
   ]
  },
  {
   "cell_type": "code",
   "execution_count": 62,
   "id": "74af48f9-b43d-45da-8ce3-21ba72c7e75c",
   "metadata": {
    "tags": []
   },
   "outputs": [],
   "source": [
    "# Instantiate model with:\n",
    "# - a maximum depth of 5.\n",
    "# - at least 7 samples required in order to split an internal node.\n",
    "# - at least 3 samples in each leaf node.\n",
    "# - a cost complexity of 0.01.\n",
    "# - random state of 42.\n",
    "\n",
    "dt = DecisionTreeClassifier(max_depth = 5,\n",
    "                           min_samples_split=5,\n",
    "                           min_samples_leaf=2,\n",
    "                           ccp_alpha=0.01,\n",
    "                           random_state = 42)"
   ]
  },
  {
   "cell_type": "code",
   "execution_count": 63,
   "id": "aebf1ef0-870e-4aae-8ee8-88ec7e92dfee",
   "metadata": {
    "tags": []
   },
   "outputs": [
    {
     "data": {
      "text/html": [
       "<style>#sk-container-id-4 {color: black;background-color: white;}#sk-container-id-4 pre{padding: 0;}#sk-container-id-4 div.sk-toggleable {background-color: white;}#sk-container-id-4 label.sk-toggleable__label {cursor: pointer;display: block;width: 100%;margin-bottom: 0;padding: 0.3em;box-sizing: border-box;text-align: center;}#sk-container-id-4 label.sk-toggleable__label-arrow:before {content: \"▸\";float: left;margin-right: 0.25em;color: #696969;}#sk-container-id-4 label.sk-toggleable__label-arrow:hover:before {color: black;}#sk-container-id-4 div.sk-estimator:hover label.sk-toggleable__label-arrow:before {color: black;}#sk-container-id-4 div.sk-toggleable__content {max-height: 0;max-width: 0;overflow: hidden;text-align: left;background-color: #f0f8ff;}#sk-container-id-4 div.sk-toggleable__content pre {margin: 0.2em;color: black;border-radius: 0.25em;background-color: #f0f8ff;}#sk-container-id-4 input.sk-toggleable__control:checked~div.sk-toggleable__content {max-height: 200px;max-width: 100%;overflow: auto;}#sk-container-id-4 input.sk-toggleable__control:checked~label.sk-toggleable__label-arrow:before {content: \"▾\";}#sk-container-id-4 div.sk-estimator input.sk-toggleable__control:checked~label.sk-toggleable__label {background-color: #d4ebff;}#sk-container-id-4 div.sk-label input.sk-toggleable__control:checked~label.sk-toggleable__label {background-color: #d4ebff;}#sk-container-id-4 input.sk-hidden--visually {border: 0;clip: rect(1px 1px 1px 1px);clip: rect(1px, 1px, 1px, 1px);height: 1px;margin: -1px;overflow: hidden;padding: 0;position: absolute;width: 1px;}#sk-container-id-4 div.sk-estimator {font-family: monospace;background-color: #f0f8ff;border: 1px dotted black;border-radius: 0.25em;box-sizing: border-box;margin-bottom: 0.5em;}#sk-container-id-4 div.sk-estimator:hover {background-color: #d4ebff;}#sk-container-id-4 div.sk-parallel-item::after {content: \"\";width: 100%;border-bottom: 1px solid gray;flex-grow: 1;}#sk-container-id-4 div.sk-label:hover label.sk-toggleable__label {background-color: #d4ebff;}#sk-container-id-4 div.sk-serial::before {content: \"\";position: absolute;border-left: 1px solid gray;box-sizing: border-box;top: 0;bottom: 0;left: 50%;z-index: 0;}#sk-container-id-4 div.sk-serial {display: flex;flex-direction: column;align-items: center;background-color: white;padding-right: 0.2em;padding-left: 0.2em;position: relative;}#sk-container-id-4 div.sk-item {position: relative;z-index: 1;}#sk-container-id-4 div.sk-parallel {display: flex;align-items: stretch;justify-content: center;background-color: white;position: relative;}#sk-container-id-4 div.sk-item::before, #sk-container-id-4 div.sk-parallel-item::before {content: \"\";position: absolute;border-left: 1px solid gray;box-sizing: border-box;top: 0;bottom: 0;left: 50%;z-index: -1;}#sk-container-id-4 div.sk-parallel-item {display: flex;flex-direction: column;z-index: 1;position: relative;background-color: white;}#sk-container-id-4 div.sk-parallel-item:first-child::after {align-self: flex-end;width: 50%;}#sk-container-id-4 div.sk-parallel-item:last-child::after {align-self: flex-start;width: 50%;}#sk-container-id-4 div.sk-parallel-item:only-child::after {width: 0;}#sk-container-id-4 div.sk-dashed-wrapped {border: 1px dashed gray;margin: 0 0.4em 0.5em 0.4em;box-sizing: border-box;padding-bottom: 0.4em;background-color: white;}#sk-container-id-4 div.sk-label label {font-family: monospace;font-weight: bold;display: inline-block;line-height: 1.2em;}#sk-container-id-4 div.sk-label-container {text-align: center;}#sk-container-id-4 div.sk-container {/* jupyter's `normalize.less` sets `[hidden] { display: none; }` but bootstrap.min.css set `[hidden] { display: none !important; }` so we also need the `!important` here to be able to override the default hidden behavior on the sphinx rendered scikit-learn.org. See: https://github.com/scikit-learn/scikit-learn/issues/21755 */display: inline-block !important;position: relative;}#sk-container-id-4 div.sk-text-repr-fallback {display: none;}</style><div id=\"sk-container-id-4\" class=\"sk-top-container\"><div class=\"sk-text-repr-fallback\"><pre>DecisionTreeClassifier(ccp_alpha=0.01, max_depth=5, min_samples_leaf=2,\n",
       "                       min_samples_split=5, random_state=42)</pre><b>In a Jupyter environment, please rerun this cell to show the HTML representation or trust the notebook. <br />On GitHub, the HTML representation is unable to render, please try loading this page with nbviewer.org.</b></div><div class=\"sk-container\" hidden><div class=\"sk-item\"><div class=\"sk-estimator sk-toggleable\"><input class=\"sk-toggleable__control sk-hidden--visually\" id=\"sk-estimator-id-6\" type=\"checkbox\" checked><label for=\"sk-estimator-id-6\" class=\"sk-toggleable__label sk-toggleable__label-arrow\">DecisionTreeClassifier</label><div class=\"sk-toggleable__content\"><pre>DecisionTreeClassifier(ccp_alpha=0.01, max_depth=5, min_samples_leaf=2,\n",
       "                       min_samples_split=5, random_state=42)</pre></div></div></div></div></div>"
      ],
      "text/plain": [
       "DecisionTreeClassifier(ccp_alpha=0.01, max_depth=5, min_samples_leaf=2,\n",
       "                       min_samples_split=5, random_state=42)"
      ]
     },
     "execution_count": 63,
     "metadata": {},
     "output_type": "execute_result"
    }
   ],
   "source": [
    "dt.fit(ntrain, y_train)"
   ]
  },
  {
   "cell_type": "code",
   "execution_count": 64,
   "id": "91b408ea-de38-498a-829f-270c91ba76d4",
   "metadata": {
    "tags": []
   },
   "outputs": [
    {
     "name": "stdout",
     "output_type": "stream",
     "text": [
      "Score on training set: 0.625531914893617\n",
      "Score on testing set: 0.625531914893617\n"
     ]
    }
   ],
   "source": [
    "# Evaluate model.\n",
    "print(f'Score on training set: {dt.score(ntrain, y_train)}')\n",
    "print(f'Score on testing set: {dt.score(ntest, y_test)}')"
   ]
  },
  {
   "cell_type": "markdown",
   "id": "dd742a0b-91d0-4d4a-b61b-c6e136d4fde6",
   "metadata": {},
   "source": [
    "***Findings***\n",
    "\n",
    "+ Without Hyper Parameters - Train = 100%, Test = 74.5%\n",
    "+ With Hyper Parameters - Train = 62.5%, Test = 62.5%\n",
    "+ Just by going of the lemmatized text alone and adjusting hyperparameters we drop to the baseline accuracy of the model. \n",
    "+ When I tried running a gridsearch the model would never stop running so due to the previous data I will not use this model over the others."
   ]
  },
  {
   "cell_type": "markdown",
   "id": "7c2c3ae2-ffca-48c6-81d3-86a89333553e",
   "metadata": {},
   "source": [
    "## Model 4: Ensemble Learning: Bagging (using Bootstrapping as a classifier)"
   ]
  },
  {
   "cell_type": "code",
   "execution_count": 65,
   "id": "a94286ea-bc57-4143-be9f-a23e7151d174",
   "metadata": {
    "scrolled": true,
    "tags": []
   },
   "outputs": [
    {
     "name": "stdout",
     "output_type": "stream",
     "text": [
      "0.9943262411347518\n",
      "0.8099290780141843\n"
     ]
    }
   ],
   "source": [
    "# Instantiate BaggingClassifier.\n",
    "bag = BaggingClassifier(random_state = 42)\n",
    "\n",
    "# Fit BaggingClassifier.\n",
    "bag.fit(ntrain, y_train)\n",
    "\n",
    "# Score BaggingClassifier.\n",
    "print(bag.score(ntrain, y_train))\n",
    "print(bag.score(ntest, y_test))"
   ]
  },
  {
   "cell_type": "markdown",
   "id": "4f2b2bf6-f4a0-4f34-9450-d3c8fe3cba46",
   "metadata": {},
   "source": [
    "Train = 99.4%\n",
    "Test = 81%"
   ]
  },
  {
   "cell_type": "code",
   "execution_count": 66,
   "id": "2ab5b18b-a6db-480b-9619-6fd3ce61037f",
   "metadata": {},
   "outputs": [
    {
     "name": "stdout",
     "output_type": "stream",
     "text": [
      "1.0\n",
      "0.8638297872340426\n"
     ]
    }
   ],
   "source": [
    "#now adding more estimators --> 50 trees\n",
    "\n",
    "# Instantiate BaggingClassifier.\n",
    "bag = BaggingClassifier(n_estimators=50,random_state=42)\n",
    "\n",
    "# Fit BaggingClassifier.\n",
    "bag.fit(ntrain, y_train)\n",
    "\n",
    "# Score BaggingClassifier.\n",
    "print(bag.score(ntrain, y_train))\n",
    "print(bag.score(ntest, y_test))"
   ]
  },
  {
   "cell_type": "markdown",
   "id": "d03b130c-7236-4ff1-a20d-17d96b3cc7a3",
   "metadata": {},
   "source": [
    "Train = 100%\n",
    "Test = 86.4%"
   ]
  },
  {
   "cell_type": "markdown",
   "id": "2f2392a0-8560-40ce-943c-121a03dd5659",
   "metadata": {
    "tags": []
   },
   "source": [
    "***Findings***\n",
    "+ Before adding more trees - Train = 99%, Test = 81%\n",
    "+ After adding 50 trees - Train = 100%, Test = 86.4%\n",
    "+ By adding more trees we did improve the testing rate of the model however it is still overfit with training now being 100%."
   ]
  },
  {
   "cell_type": "markdown",
   "id": "bd515b49-352a-473e-8b77-5c790200714c",
   "metadata": {},
   "source": [
    "## Model 5: Ensemble Learning: Boosting"
   ]
  },
  {
   "cell_type": "code",
   "execution_count": 72,
   "id": "0f1ed79d-17b2-46a2-a94c-0bc22fb067fa",
   "metadata": {
    "scrolled": true,
    "tags": []
   },
   "outputs": [
    {
     "data": {
      "text/html": [
       "<style>#sk-container-id-7 {color: black;background-color: white;}#sk-container-id-7 pre{padding: 0;}#sk-container-id-7 div.sk-toggleable {background-color: white;}#sk-container-id-7 label.sk-toggleable__label {cursor: pointer;display: block;width: 100%;margin-bottom: 0;padding: 0.3em;box-sizing: border-box;text-align: center;}#sk-container-id-7 label.sk-toggleable__label-arrow:before {content: \"▸\";float: left;margin-right: 0.25em;color: #696969;}#sk-container-id-7 label.sk-toggleable__label-arrow:hover:before {color: black;}#sk-container-id-7 div.sk-estimator:hover label.sk-toggleable__label-arrow:before {color: black;}#sk-container-id-7 div.sk-toggleable__content {max-height: 0;max-width: 0;overflow: hidden;text-align: left;background-color: #f0f8ff;}#sk-container-id-7 div.sk-toggleable__content pre {margin: 0.2em;color: black;border-radius: 0.25em;background-color: #f0f8ff;}#sk-container-id-7 input.sk-toggleable__control:checked~div.sk-toggleable__content {max-height: 200px;max-width: 100%;overflow: auto;}#sk-container-id-7 input.sk-toggleable__control:checked~label.sk-toggleable__label-arrow:before {content: \"▾\";}#sk-container-id-7 div.sk-estimator input.sk-toggleable__control:checked~label.sk-toggleable__label {background-color: #d4ebff;}#sk-container-id-7 div.sk-label input.sk-toggleable__control:checked~label.sk-toggleable__label {background-color: #d4ebff;}#sk-container-id-7 input.sk-hidden--visually {border: 0;clip: rect(1px 1px 1px 1px);clip: rect(1px, 1px, 1px, 1px);height: 1px;margin: -1px;overflow: hidden;padding: 0;position: absolute;width: 1px;}#sk-container-id-7 div.sk-estimator {font-family: monospace;background-color: #f0f8ff;border: 1px dotted black;border-radius: 0.25em;box-sizing: border-box;margin-bottom: 0.5em;}#sk-container-id-7 div.sk-estimator:hover {background-color: #d4ebff;}#sk-container-id-7 div.sk-parallel-item::after {content: \"\";width: 100%;border-bottom: 1px solid gray;flex-grow: 1;}#sk-container-id-7 div.sk-label:hover label.sk-toggleable__label {background-color: #d4ebff;}#sk-container-id-7 div.sk-serial::before {content: \"\";position: absolute;border-left: 1px solid gray;box-sizing: border-box;top: 0;bottom: 0;left: 50%;z-index: 0;}#sk-container-id-7 div.sk-serial {display: flex;flex-direction: column;align-items: center;background-color: white;padding-right: 0.2em;padding-left: 0.2em;position: relative;}#sk-container-id-7 div.sk-item {position: relative;z-index: 1;}#sk-container-id-7 div.sk-parallel {display: flex;align-items: stretch;justify-content: center;background-color: white;position: relative;}#sk-container-id-7 div.sk-item::before, #sk-container-id-7 div.sk-parallel-item::before {content: \"\";position: absolute;border-left: 1px solid gray;box-sizing: border-box;top: 0;bottom: 0;left: 50%;z-index: -1;}#sk-container-id-7 div.sk-parallel-item {display: flex;flex-direction: column;z-index: 1;position: relative;background-color: white;}#sk-container-id-7 div.sk-parallel-item:first-child::after {align-self: flex-end;width: 50%;}#sk-container-id-7 div.sk-parallel-item:last-child::after {align-self: flex-start;width: 50%;}#sk-container-id-7 div.sk-parallel-item:only-child::after {width: 0;}#sk-container-id-7 div.sk-dashed-wrapped {border: 1px dashed gray;margin: 0 0.4em 0.5em 0.4em;box-sizing: border-box;padding-bottom: 0.4em;background-color: white;}#sk-container-id-7 div.sk-label label {font-family: monospace;font-weight: bold;display: inline-block;line-height: 1.2em;}#sk-container-id-7 div.sk-label-container {text-align: center;}#sk-container-id-7 div.sk-container {/* jupyter's `normalize.less` sets `[hidden] { display: none; }` but bootstrap.min.css set `[hidden] { display: none !important; }` so we also need the `!important` here to be able to override the default hidden behavior on the sphinx rendered scikit-learn.org. See: https://github.com/scikit-learn/scikit-learn/issues/21755 */display: inline-block !important;position: relative;}#sk-container-id-7 div.sk-text-repr-fallback {display: none;}</style><div id=\"sk-container-id-7\" class=\"sk-top-container\"><div class=\"sk-text-repr-fallback\"><pre>GridSearchCV(cv=3,\n",
       "             estimator=AdaBoostClassifier(estimator=DecisionTreeClassifier()),\n",
       "             param_grid={&#x27;estimator__max_depth&#x27;: [1, 2],\n",
       "                         &#x27;learning_rate&#x27;: [0.9, 1.1],\n",
       "                         &#x27;n_estimators&#x27;: [50, 100]})</pre><b>In a Jupyter environment, please rerun this cell to show the HTML representation or trust the notebook. <br />On GitHub, the HTML representation is unable to render, please try loading this page with nbviewer.org.</b></div><div class=\"sk-container\" hidden><div class=\"sk-item sk-dashed-wrapped\"><div class=\"sk-label-container\"><div class=\"sk-label sk-toggleable\"><input class=\"sk-toggleable__control sk-hidden--visually\" id=\"sk-estimator-id-15\" type=\"checkbox\" ><label for=\"sk-estimator-id-15\" class=\"sk-toggleable__label sk-toggleable__label-arrow\">GridSearchCV</label><div class=\"sk-toggleable__content\"><pre>GridSearchCV(cv=3,\n",
       "             estimator=AdaBoostClassifier(estimator=DecisionTreeClassifier()),\n",
       "             param_grid={&#x27;estimator__max_depth&#x27;: [1, 2],\n",
       "                         &#x27;learning_rate&#x27;: [0.9, 1.1],\n",
       "                         &#x27;n_estimators&#x27;: [50, 100]})</pre></div></div></div><div class=\"sk-parallel\"><div class=\"sk-parallel-item\"><div class=\"sk-item\"><div class=\"sk-label-container\"><div class=\"sk-label sk-toggleable\"><input class=\"sk-toggleable__control sk-hidden--visually\" id=\"sk-estimator-id-16\" type=\"checkbox\" ><label for=\"sk-estimator-id-16\" class=\"sk-toggleable__label sk-toggleable__label-arrow\">estimator: AdaBoostClassifier</label><div class=\"sk-toggleable__content\"><pre>AdaBoostClassifier(estimator=DecisionTreeClassifier())</pre></div></div></div><div class=\"sk-serial\"><div class=\"sk-item sk-dashed-wrapped\"><div class=\"sk-parallel\"><div class=\"sk-parallel-item\"><div class=\"sk-item\"><div class=\"sk-label-container\"><div class=\"sk-label sk-toggleable\"><input class=\"sk-toggleable__control sk-hidden--visually\" id=\"sk-estimator-id-17\" type=\"checkbox\" ><label for=\"sk-estimator-id-17\" class=\"sk-toggleable__label sk-toggleable__label-arrow\">estimator: DecisionTreeClassifier</label><div class=\"sk-toggleable__content\"><pre>DecisionTreeClassifier()</pre></div></div></div><div class=\"sk-serial\"><div class=\"sk-item\"><div class=\"sk-estimator sk-toggleable\"><input class=\"sk-toggleable__control sk-hidden--visually\" id=\"sk-estimator-id-18\" type=\"checkbox\" ><label for=\"sk-estimator-id-18\" class=\"sk-toggleable__label sk-toggleable__label-arrow\">DecisionTreeClassifier</label><div class=\"sk-toggleable__content\"><pre>DecisionTreeClassifier()</pre></div></div></div></div></div></div></div></div></div></div></div></div></div></div></div>"
      ],
      "text/plain": [
       "GridSearchCV(cv=3,\n",
       "             estimator=AdaBoostClassifier(estimator=DecisionTreeClassifier()),\n",
       "             param_grid={'estimator__max_depth': [1, 2],\n",
       "                         'learning_rate': [0.9, 1.1],\n",
       "                         'n_estimators': [50, 100]})"
      ]
     },
     "execution_count": 72,
     "metadata": {},
     "output_type": "execute_result"
    }
   ],
   "source": [
    "ada = AdaBoostClassifier(estimator=DecisionTreeClassifier())\n",
    "\n",
    "ada_params = {\n",
    "    'n_estimators': [50, 100],\n",
    "    'estimator__max_depth': [1, 2],\n",
    "    'learning_rate': [0.9, 1.1]\n",
    "}\n",
    "\n",
    "gs = GridSearchCV(ada, param_grid=ada_params, cv = 3, n_jobs = -1)\n",
    "\n",
    "gs.fit(ntrain, y_train)"
   ]
  },
  {
   "cell_type": "code",
   "execution_count": 73,
   "id": "df42457a-bc65-4a3b-a153-45abc3036ff7",
   "metadata": {},
   "outputs": [
    {
     "data": {
      "text/plain": [
       "0.7527186761229315"
      ]
     },
     "execution_count": 73,
     "metadata": {},
     "output_type": "execute_result"
    }
   ],
   "source": [
    "gs.best_score_"
   ]
  },
  {
   "cell_type": "code",
   "execution_count": 74,
   "id": "29f62c2a-c939-4ebb-8404-08bcdd1f87e5",
   "metadata": {},
   "outputs": [
    {
     "data": {
      "text/plain": [
       "{'estimator__max_depth': 2, 'learning_rate': 0.9, 'n_estimators': 100}"
      ]
     },
     "execution_count": 74,
     "metadata": {},
     "output_type": "execute_result"
    }
   ],
   "source": [
    "gs.best_params_"
   ]
  },
  {
   "cell_type": "code",
   "execution_count": 75,
   "id": "03dd5df6-c6b4-46b8-b5cf-76d6068e248b",
   "metadata": {
    "tags": []
   },
   "outputs": [
    {
     "data": {
      "text/plain": [
       "(0.8794326241134752, 0.7432624113475177)"
      ]
     },
     "execution_count": 75,
     "metadata": {},
     "output_type": "execute_result"
    }
   ],
   "source": [
    "gs.score(ntrain, y_train), gs.score(ntest, y_test)"
   ]
  },
  {
   "cell_type": "markdown",
   "id": "1b72d4fb-b600-43ea-99b6-3fb43722cf31",
   "metadata": {},
   "source": [
    "***Findings***\n",
    "+ AdaBoost best score = 75.3%\n",
    "+ Train = 87.9%\n",
    "+ Test = 74.3%\n",
    "+ Still an overfit model with my testing accuracy lower than the other models as well."
   ]
  },
  {
   "cell_type": "markdown",
   "id": "8abaef27-e35b-45cd-9428-df17e862ab63",
   "metadata": {},
   "source": [
    "# Conclusion"
   ]
  },
  {
   "cell_type": "markdown",
   "id": "5fdfbe41-78f3-4dc5-a12b-17248caa381e",
   "metadata": {},
   "source": [
    "Out of all the models used for the problem statement the best results were provided by my Logistic Regression model boasting a 89.5% testing score. Giving me a pretty firm model in terms of seeing if you were asking for culinary advice or dating advice. In terms of just searching by solo words, the model works even better, but my main aim was to look at the phrases shared in each. By applying bigrams, the models had a harder time predicting what reddit the post was coming from. Coupled with the removal of key words from both subreddits we came to an even more balanced model, giving better insight on what may be leading into the differences between the two. This left me to use the other models to inference details about the way my problem statement was behaving. \n",
    "\n",
    "The KNN model showed that we did not follow a Bernoulli distribution and that our observations were not indepent of the other. This gave us a poor test score at 63.7% with a large overfitting on the training data. Sadly, the next model focusing on decision trees did not fair much better. With a gini score of 46.8%, we could see that almost half the time our decision tree would be missclassifying the next prediction. This led to an overfit model until we added the hyperparameters to control the overfitting. Once the hyperparameters were in place we no longer had an overfit model with both train and test scores placing at 62.5%, which ended up being right at our baseline point. This meant that tuning depth, splits, and sample data would effect the results of the model dramatically. Leaving us with the final two models I ran being bagging and AdaBoosting. \n",
    "\n",
    "Both of the bagging and boosting methods worked better for the project at hand. Bagging providing the better results after a gridsearch adding 50 trees at, 86.4%. This would make sense since our decision tree seemed to grow accustomed to some irregualr patterns from the overfitting of the training set. By adding more exposure to the trees by introducing sub-samples of the training set, we ended up with a better accuracy for our testing model. This gave us a good contrast in terms of then viewing boostings scores. The boosted test scores after running a gridsearch were, 74.3% causing quite a gap to be viewed between the two. This meant that the repeated weighing of weak learners to increase influence over the model was not effective. Giving us a good idea that our model learns better through recognizing pattern recognition instead of emphasizing value on seperate sections. \n",
    "\n",
    "I would recommend that the acquisition of more data and the time to run more modeling would help the project immensely. For future testing and exploration of the subject, having a more balanced data set would be ideal to avoid overfitting. I would also recommend that since there are quite a few relationships in the phrases used in both subreddits that we should add a few more stop words to the final operating models. "
   ]
  }
 ],
 "metadata": {
  "kernelspec": {
   "display_name": "Python 3 (ipykernel)",
   "language": "python",
   "name": "python3"
  },
  "language_info": {
   "codemirror_mode": {
    "name": "ipython",
    "version": 3
   },
   "file_extension": ".py",
   "mimetype": "text/x-python",
   "name": "python",
   "nbconvert_exporter": "python",
   "pygments_lexer": "ipython3",
   "version": "3.8.16"
  }
 },
 "nbformat": 4,
 "nbformat_minor": 5
}
